{
 "cells": [
  {
   "cell_type": "code",
   "execution_count": 1,
   "metadata": {},
   "outputs": [
    {
     "name": "stdout",
     "output_type": "stream",
     "text": [
      "\u001b[0m\n",
      "\u001b[34m\u001b[1m  You can now view your Streamlit app in your browser.\u001b[0m\n",
      "\u001b[0m\n",
      "\u001b[34m  Local URL: \u001b[0m\u001b[1mhttp://localhost:8501\u001b[0m\n",
      "\u001b[34m  Network URL: \u001b[0m\u001b[1mhttp://157.136.73.104:8501\u001b[0m\n",
      "\u001b[0m\n",
      "\u001b[34m\u001b[1m  For better performance, install the Watchdog module:\u001b[0m\n",
      "\n",
      "  $ xcode-select --install\n",
      "  $ pip install watchdog\n",
      "            \u001b[0m\n",
      "^C\n",
      "\u001b[34m  Stopping...\u001b[0m\n",
      "Exception ignored in: <module 'threading' from '/Users/rmitta/opt/anaconda3/envs/truskawka/lib/python3.10/threading.py'>\n",
      "Traceback (most recent call last):\n",
      "  File \"/Users/rmitta/opt/anaconda3/envs/truskawka/lib/python3.10/threading.py\", line 1537, in _shutdown\n",
      "    atexit_call()\n",
      "  File \"/Users/rmitta/opt/anaconda3/envs/truskawka/lib/python3.10/concurrent/futures/thread.py\", line 31, in _python_exit\n",
      "    t.join()\n",
      "  File \"/Users/rmitta/opt/anaconda3/envs/truskawka/lib/python3.10/threading.py\", line 1096, in join\n",
      "    self._wait_for_tstate_lock()\n",
      "  File \"/Users/rmitta/opt/anaconda3/envs/truskawka/lib/python3.10/threading.py\", line 1116, in _wait_for_tstate_lock\n",
      "    if lock.acquire(block, timeout):\n",
      "  File \"/Users/rmitta/opt/anaconda3/envs/truskawka/lib/python3.10/site-packages/streamlit/web/bootstrap.py\", line 43, in signal_handler\n",
      "    server.stop()\n",
      "  File \"/Users/rmitta/opt/anaconda3/envs/truskawka/lib/python3.10/site-packages/streamlit/web/server/server.py\", line 458, in stop\n",
      "    self._runtime.stop()\n",
      "  File \"/Users/rmitta/opt/anaconda3/envs/truskawka/lib/python3.10/site-packages/streamlit/runtime/runtime.py\", line 324, in stop\n",
      "    async_objs.eventloop.call_soon_threadsafe(stop_on_eventloop)\n",
      "  File \"/Users/rmitta/opt/anaconda3/envs/truskawka/lib/python3.10/asyncio/base_events.py\", line 798, in call_soon_threadsafe\n",
      "    self._check_closed()\n",
      "  File \"/Users/rmitta/opt/anaconda3/envs/truskawka/lib/python3.10/asyncio/base_events.py\", line 515, in _check_closed\n",
      "    raise RuntimeError('Event loop is closed')\n",
      "RuntimeError: Event loop is closed\n"
     ]
    }
   ],
   "source": [
    "!streamlit run Data_Overview.py"
   ]
  },
  {
   "cell_type": "code",
   "execution_count": 3,
   "metadata": {},
   "outputs": [
    {
     "data": {
      "text/plain": [
       "'1.46.1'"
      ]
     },
     "execution_count": 3,
     "metadata": {},
     "output_type": "execute_result"
    }
   ],
   "source": [
    "import streamlit as st\n",
    "# version of streamlit\n",
    "st.__version__"
   ]
  },
  {
   "cell_type": "code",
   "execution_count": 7,
   "metadata": {},
   "outputs": [],
   "source": [
    "p = 'data/variability/bhopal/2021/car_F_COUNT_variability.png'"
   ]
  },
  {
   "cell_type": "code",
   "execution_count": 8,
   "metadata": {},
   "outputs": [
    {
     "name": "stdout",
     "output_type": "stream",
     "text": [
      "File exists\n"
     ]
    }
   ],
   "source": [
    "# chceck if p has a file\n",
    "import os\n",
    "if os.path.isfile(p):\n",
    "       print('File exists')"
   ]
  },
  {
   "cell_type": "code",
   "execution_count": 4,
   "metadata": {},
   "outputs": [
    {
     "name": "stdout",
     "output_type": "stream",
     "text": [
      "mumbai\n",
      "bengaluru\n",
      "ahmedabad\n",
      "chennai\n",
      "bhopal\n",
      "ghaziabad\n",
      "patna\n",
      "vishakhapatnam\n",
      "thiruvananthapuram\n",
      "agra\n",
      "varanashi\n",
      "vadodara\n",
      "faridabad\n",
      "ludhiana\n",
      "nashik\n",
      "madurai\n",
      "allahabad\n",
      "dhanbad\n",
      "meerut\n",
      "coimbatore\n",
      "jamshedpur\n",
      "gwalior\n",
      "ranchi\n",
      "aurangabad\n",
      "moradabad\n",
      "srinagar\n",
      "rajkot\n",
      "noida\n",
      "kota\n",
      "bareilly\n",
      "raipur\n",
      "amritsar\n",
      "guwahati\n",
      "jalandhar\n",
      "gurgaon\n",
      "tiruchirappalli\n",
      "solapur\n",
      "hubli dharwad\n",
      "jodhpur\n",
      "aligarh\n",
      "vijaywada\n",
      "bhubaneswar\n",
      "jammu\n",
      "mysuru\n",
      "warangal\n",
      "kochi\n",
      "cuttack\n",
      "chandigarh\n",
      "tiruppur\n",
      "firozabad\n",
      "guntur\n",
      "dehradun\n",
      "amravati\n",
      "patiala\n",
      "mangaluru\n",
      "jhansi\n",
      "bhilainagar\n",
      "jalgaon\n",
      "nellore\n",
      "gaya\n",
      "sangli-miraj-kupwad\n",
      "agartala\n",
      "kolhapur\n",
      "ujjain\n",
      "muzaffarpur\n",
      "erode\n",
      "udaipur\n",
      "silchar\n",
      "alwar\n",
      "korba\n",
      "jalpaiguri\n",
      "kurnool\n",
      "shivamogga\n",
      "thoothukkudi\n",
      "sagar\n",
      "haldia\n",
      "aizawl\n",
      "dewas\n",
      "durgapur\n",
      "siliguri\n",
      "rourkela\n",
      "imphal\n",
      "shimla\n",
      "nalgonda\n",
      "shilong\n",
      "gangtok\n",
      "panaji\n",
      "kohima\n",
      "itanagar\n"
     ]
    }
   ],
   "source": [
    "cities = [\n",
    "       'mumbai',\n",
    "       'bengaluru', 'ahmedabad', 'chennai', 'bhopal',\n",
    "       'ghaziabad', 'patna', 'vishakhapatnam', 'thiruvananthapuram',\n",
    "       'agra', 'varanashi', 'vadodara', 'faridabad', 'ludhiana', 'nashik',\n",
    "       'madurai', 'allahabad', 'dhanbad', 'meerut', 'coimbatore',\n",
    "       'jamshedpur', 'gwalior', 'ranchi', 'aurangabad', 'moradabad',\n",
    "       'srinagar', 'rajkot', 'noida', 'kota', 'bareilly', 'raipur',\n",
    "       'amritsar', 'guwahati', 'jalandhar', 'gurgaon', 'tiruchirappalli',\n",
    "       'solapur', 'hubli dharwad', 'jodhpur', 'aligarh', 'vijaywada',\n",
    "       'bhubaneswar', 'jammu', 'mysuru', 'warangal', 'kochi', 'cuttack',\n",
    "       'chandigarh', 'tiruppur', 'firozabad', 'guntur', 'dehradun',\n",
    "       'amravati', 'patiala', 'mangaluru', 'jhansi', 'bhilainagar',\n",
    "       'jalgaon', 'nellore', 'gaya', 'sangli-miraj-kupwad', 'agartala',\n",
    "       'kolhapur', 'ujjain', 'muzaffarpur', 'erode', 'udaipur', 'silchar',\n",
    "       'alwar', 'korba', 'jalpaiguri', 'kurnool', 'shivamogga',\n",
    "       'thoothukkudi', 'sagar', 'haldia', 'aizawl', 'dewas', 'durgapur',\n",
    "       'siliguri', 'rourkela', 'imphal', 'shimla', 'nalgonda', 'shilong',\n",
    "       'gangtok', 'panaji', 'kohima', 'itanagar'\n",
    "]\n",
    "\n",
    "for city in cities:\n",
    "       print(city)"
   ]
  }
 ],
 "metadata": {
  "kernelspec": {
   "display_name": "truskawka",
   "language": "python",
   "name": "python3"
  },
  "language_info": {
   "codemirror_mode": {
    "name": "ipython",
    "version": 3
   },
   "file_extension": ".py",
   "mimetype": "text/x-python",
   "name": "python",
   "nbconvert_exporter": "python",
   "pygments_lexer": "ipython3",
   "version": "3.10.18"
  },
  "orig_nbformat": 4
 },
 "nbformat": 4,
 "nbformat_minor": 2
}
