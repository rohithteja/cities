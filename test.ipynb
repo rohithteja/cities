{
 "cells": [
  {
   "cell_type": "code",
   "execution_count": 1,
   "metadata": {},
   "outputs": [
    {
     "name": "stdout",
     "output_type": "stream",
     "text": [
      "\u001b[0m\n",
      "\u001b[34m\u001b[1m  You can now view your Streamlit app in your browser.\u001b[0m\n",
      "\u001b[0m\n",
      "\u001b[34m  Local URL: \u001b[0m\u001b[1mhttp://localhost:8501\u001b[0m\n",
      "\u001b[34m  Network URL: \u001b[0m\u001b[1mhttp://157.136.73.104:8501\u001b[0m\n",
      "\u001b[0m\n",
      "\n",
      "  \u001b[34m\u001b[1mA new version of Streamlit is available.\u001b[0m\n",
      "\n",
      "  See what's new at https://discuss.streamlit.io/c/announcements\n",
      "\n",
      "  Enter the following command to upgrade:\n",
      "  \u001b[34m$\u001b[0m \u001b[1mpip install streamlit --upgrade\u001b[0m\n",
      "\u001b[0m\n",
      "2024-07-24 13:47:52.297 Uncaught app exception\n",
      "Traceback (most recent call last):\n",
      "  File \"/Users/rmitta/opt/anaconda3/envs/zerotwo/lib/python3.10/site-packages/streamlit/elements/image.py\", line 381, in image_to_url\n",
      "    with open(image, \"rb\") as f:\n",
      "FileNotFoundError: [Errno 2] No such file or directory: 'data/impute/Kanpur/initial_data/2021/missingtimeseriespercent.png'\n",
      "\n",
      "During handling of the above exception, another exception occurred:\n",
      "\n",
      "Traceback (most recent call last):\n",
      "  File \"/Users/rmitta/opt/anaconda3/envs/zerotwo/lib/python3.10/site-packages/streamlit/runtime/memory_media_file_storage.py\", line 164, in _read_file\n",
      "    with open(filename, \"rb\") as f:\n",
      "FileNotFoundError: [Errno 2] No such file or directory: 'data/impute/Kanpur/initial_data/2021/missingtimeseriespercent.png'\n",
      "\n",
      "The above exception was the direct cause of the following exception:\n",
      "\n",
      "Traceback (most recent call last):\n",
      "  File \"/Users/rmitta/opt/anaconda3/envs/zerotwo/lib/python3.10/site-packages/streamlit/runtime/scriptrunner/script_runner.py\", line 542, in _run_script\n",
      "    exec(code, module.__dict__)\n",
      "  File \"/Volumes/Fatboy/Indian Traffic/cities/streamlit/cities/pages/2 Imputation.py\", line 90, in <module>\n",
      "    st.image(path +'initial_data/2021/missingtimeseriespercent.png')\n",
      "  File \"/Users/rmitta/opt/anaconda3/envs/zerotwo/lib/python3.10/site-packages/streamlit/runtime/metrics_util.py\", line 397, in wrapped_func\n",
      "    result = non_optional_func(*args, **kwargs)\n",
      "  File \"/Users/rmitta/opt/anaconda3/envs/zerotwo/lib/python3.10/site-packages/streamlit/elements/image.py\", line 161, in image\n",
      "    marshall_images(\n",
      "  File \"/Users/rmitta/opt/anaconda3/envs/zerotwo/lib/python3.10/site-packages/streamlit/elements/image.py\", line 544, in marshall_images\n",
      "    proto_img.url = image_to_url(\n",
      "  File \"/Users/rmitta/opt/anaconda3/envs/zerotwo/lib/python3.10/site-packages/streamlit/elements/image.py\", line 393, in image_to_url\n",
      "    url = runtime.get_instance().media_file_mgr.add(image, mimetype, image_id)\n",
      "  File \"/Users/rmitta/opt/anaconda3/envs/zerotwo/lib/python3.10/site-packages/streamlit/runtime/media_file_manager.py\", line 224, in add\n",
      "    file_id = self._storage.load_and_get_id(\n",
      "  File \"/Users/rmitta/opt/anaconda3/envs/zerotwo/lib/python3.10/site-packages/streamlit/runtime/memory_media_file_storage.py\", line 115, in load_and_get_id\n",
      "    file_data = self._read_file(path_or_data)\n",
      "  File \"/Users/rmitta/opt/anaconda3/envs/zerotwo/lib/python3.10/site-packages/streamlit/runtime/memory_media_file_storage.py\", line 167, in _read_file\n",
      "    raise MediaFileStorageError(f\"Error opening '{filename}'\") from ex\n",
      "streamlit.runtime.media_file_storage.MediaFileStorageError: Error opening 'data/impute/Kanpur/initial_data/2021/missingtimeseriespercent.png'\n",
      "2024-07-24 13:48:38.051 Uncaught app exception\n",
      "Traceback (most recent call last):\n",
      "  File \"/Users/rmitta/opt/anaconda3/envs/zerotwo/lib/python3.10/site-packages/streamlit/elements/image.py\", line 381, in image_to_url\n",
      "    with open(image, \"rb\") as f:\n",
      "FileNotFoundError: [Errno 2] No such file or directory: 'data/impute/Kanpur/initial_data/2021/missingtimeseriespercent.png'\n",
      "\n",
      "During handling of the above exception, another exception occurred:\n",
      "\n",
      "Traceback (most recent call last):\n",
      "  File \"/Users/rmitta/opt/anaconda3/envs/zerotwo/lib/python3.10/site-packages/streamlit/runtime/memory_media_file_storage.py\", line 164, in _read_file\n",
      "    with open(filename, \"rb\") as f:\n",
      "FileNotFoundError: [Errno 2] No such file or directory: 'data/impute/Kanpur/initial_data/2021/missingtimeseriespercent.png'\n",
      "\n",
      "The above exception was the direct cause of the following exception:\n",
      "\n",
      "Traceback (most recent call last):\n",
      "  File \"/Users/rmitta/opt/anaconda3/envs/zerotwo/lib/python3.10/site-packages/streamlit/runtime/scriptrunner/script_runner.py\", line 542, in _run_script\n",
      "    exec(code, module.__dict__)\n",
      "  File \"/Volumes/Fatboy/Indian Traffic/cities/streamlit/cities/pages/2 Imputation.py\", line 90, in <module>\n",
      "    st.image(path +'initial_data/2021/missingtimeseriespercent.png')\n",
      "  File \"/Users/rmitta/opt/anaconda3/envs/zerotwo/lib/python3.10/site-packages/streamlit/runtime/metrics_util.py\", line 397, in wrapped_func\n",
      "    result = non_optional_func(*args, **kwargs)\n",
      "  File \"/Users/rmitta/opt/anaconda3/envs/zerotwo/lib/python3.10/site-packages/streamlit/elements/image.py\", line 161, in image\n",
      "    marshall_images(\n",
      "  File \"/Users/rmitta/opt/anaconda3/envs/zerotwo/lib/python3.10/site-packages/streamlit/elements/image.py\", line 544, in marshall_images\n",
      "    proto_img.url = image_to_url(\n",
      "  File \"/Users/rmitta/opt/anaconda3/envs/zerotwo/lib/python3.10/site-packages/streamlit/elements/image.py\", line 393, in image_to_url\n",
      "    url = runtime.get_instance().media_file_mgr.add(image, mimetype, image_id)\n",
      "  File \"/Users/rmitta/opt/anaconda3/envs/zerotwo/lib/python3.10/site-packages/streamlit/runtime/media_file_manager.py\", line 224, in add\n",
      "    file_id = self._storage.load_and_get_id(\n",
      "  File \"/Users/rmitta/opt/anaconda3/envs/zerotwo/lib/python3.10/site-packages/streamlit/runtime/memory_media_file_storage.py\", line 115, in load_and_get_id\n",
      "    file_data = self._read_file(path_or_data)\n",
      "  File \"/Users/rmitta/opt/anaconda3/envs/zerotwo/lib/python3.10/site-packages/streamlit/runtime/memory_media_file_storage.py\", line 167, in _read_file\n",
      "    raise MediaFileStorageError(f\"Error opening '{filename}'\") from ex\n",
      "streamlit.runtime.media_file_storage.MediaFileStorageError: Error opening 'data/impute/Kanpur/initial_data/2021/missingtimeseriespercent.png'\n"
     ]
    }
   ],
   "source": [
    "!streamlit run Data_Overview.py"
   ]
  }
 ],
 "metadata": {
  "kernelspec": {
   "display_name": "Python 3.10.6 ('zerotwo')",
   "language": "python",
   "name": "python3"
  },
  "language_info": {
   "codemirror_mode": {
    "name": "ipython",
    "version": 3
   },
   "file_extension": ".py",
   "mimetype": "text/x-python",
   "name": "python",
   "nbconvert_exporter": "python",
   "pygments_lexer": "ipython3",
   "version": "3.10.6"
  },
  "orig_nbformat": 4,
  "vscode": {
   "interpreter": {
    "hash": "9bfb04bc2ddf749979761a4feac0c518cf5ca390f648d1feb34c0cf89edffd23"
   }
  }
 },
 "nbformat": 4,
 "nbformat_minor": 2
}
