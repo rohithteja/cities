{
 "cells": [
  {
   "cell_type": "code",
   "execution_count": null,
   "metadata": {},
   "outputs": [
    {
     "name": "stdout",
     "output_type": "stream",
     "text": [
      "\u001b[0m\n",
      "\u001b[34m\u001b[1m  You can now view your Streamlit app in your browser.\u001b[0m\n",
      "\u001b[0m\n",
      "\u001b[34m  Local URL: \u001b[0m\u001b[1mhttp://localhost:8501\u001b[0m\n",
      "\u001b[34m  Network URL: \u001b[0m\u001b[1mhttp://157.136.73.104:8501\u001b[0m\n",
      "\u001b[0m\n",
      "\u001b[34m\u001b[1m  For better performance, install the Watchdog module:\u001b[0m\n",
      "\n",
      "  $ xcode-select --install\n",
      "  $ pip install watchdog\n",
      "            \u001b[0m\n",
      "2025-07-23 15:00:34.849 Uncaught app execution\n",
      "Traceback (most recent call last):\n",
      "  File \"/Users/rmitta/opt/anaconda3/envs/truskawka/lib/python3.10/site-packages/streamlit/elements/lib/image_utils.py\", line 282, in image_to_url\n",
      "    with open(image, \"rb\") as f:\n",
      "FileNotFoundError: [Errno 2] No such file or directory: 'data/plots1/cumulative.png'\n",
      "\n",
      "During handling of the above exception, another exception occurred:\n",
      "\n",
      "Traceback (most recent call last):\n",
      "  File \"/Users/rmitta/opt/anaconda3/envs/truskawka/lib/python3.10/site-packages/streamlit/runtime/memory_media_file_storage.py\", line 164, in _read_file\n",
      "    with open(filename, \"rb\") as f:\n",
      "FileNotFoundError: [Errno 2] No such file or directory: 'data/plots1/cumulative.png'\n",
      "\n",
      "The above exception was the direct cause of the following exception:\n",
      "\n",
      "Traceback (most recent call last):\n",
      "  File \"/Users/rmitta/opt/anaconda3/envs/truskawka/lib/python3.10/site-packages/streamlit/runtime/scriptrunner/exec_code.py\", line 128, in exec_func_with_error_handling\n",
      "    result = func()\n",
      "  File \"/Users/rmitta/opt/anaconda3/envs/truskawka/lib/python3.10/site-packages/streamlit/runtime/scriptrunner/script_runner.py\", line 667, in code_to_exec\n",
      "    _mpa_v1(self._main_script_path)\n",
      "  File \"/Users/rmitta/opt/anaconda3/envs/truskawka/lib/python3.10/site-packages/streamlit/runtime/scriptrunner/script_runner.py\", line 165, in _mpa_v1\n",
      "    page.run()\n",
      "  File \"/Users/rmitta/opt/anaconda3/envs/truskawka/lib/python3.10/site-packages/streamlit/navigation/page.py\", line 300, in run\n",
      "    exec(code, module.__dict__)  # noqa: S102\n",
      "  File \"/Users/rmitta/Documents/GitHub/cities/pages/6 🆕 Kaya Identity.py\", line 67, in <module>\n",
      "    st.image(f'data/plots1/cumulative.png')\n",
      "  File \"/Users/rmitta/opt/anaconda3/envs/truskawka/lib/python3.10/site-packages/streamlit/runtime/metrics_util.py\", line 443, in wrapped_func\n",
      "    result = non_optional_func(*args, **kwargs)\n",
      "  File \"/Users/rmitta/opt/anaconda3/envs/truskawka/lib/python3.10/site-packages/streamlit/elements/image.py\", line 180, in image\n",
      "    marshall_images(\n",
      "  File \"/Users/rmitta/opt/anaconda3/envs/truskawka/lib/python3.10/site-packages/streamlit/elements/lib/image_utils.py\", line 441, in marshall_images\n",
      "    proto_img.url = image_to_url(\n",
      "  File \"/Users/rmitta/opt/anaconda3/envs/truskawka/lib/python3.10/site-packages/streamlit/elements/lib/image_utils.py\", line 294, in image_to_url\n",
      "    url = runtime.get_instance().media_file_mgr.add(image, mimetype, image_id)\n",
      "  File \"/Users/rmitta/opt/anaconda3/envs/truskawka/lib/python3.10/site-packages/streamlit/runtime/media_file_manager.py\", line 225, in add\n",
      "    file_id = self._storage.load_and_get_id(\n",
      "  File \"/Users/rmitta/opt/anaconda3/envs/truskawka/lib/python3.10/site-packages/streamlit/runtime/memory_media_file_storage.py\", line 114, in load_and_get_id\n",
      "    self._read_file(path_or_data)\n",
      "  File \"/Users/rmitta/opt/anaconda3/envs/truskawka/lib/python3.10/site-packages/streamlit/runtime/memory_media_file_storage.py\", line 167, in _read_file\n",
      "    raise MediaFileStorageError(f\"Error opening '{filename}'\") from ex\n",
      "streamlit.runtime.media_file_storage.MediaFileStorageError: Error opening 'data/plots1/cumulative.png'\n"
     ]
    }
   ],
   "source": [
    "!streamlit run Data_Overview.py"
   ]
  },
  {
   "cell_type": "code",
   "execution_count": null,
   "metadata": {},
   "outputs": [],
   "source": []
  }
 ],
 "metadata": {
  "kernelspec": {
   "display_name": "truskawka",
   "language": "python",
   "name": "python3"
  },
  "language_info": {
   "codemirror_mode": {
    "name": "ipython",
    "version": 3
   },
   "file_extension": ".py",
   "mimetype": "text/x-python",
   "name": "python",
   "nbconvert_exporter": "python",
   "pygments_lexer": "ipython3",
   "version": "3.10.18"
  },
  "orig_nbformat": 4
 },
 "nbformat": 4,
 "nbformat_minor": 2
}
