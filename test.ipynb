{
 "cells": [
  {
   "cell_type": "code",
   "execution_count": 1,
   "metadata": {},
   "outputs": [
    {
     "name": "stdout",
     "output_type": "stream",
     "text": [
      "\u001b[0m\n",
      "\u001b[34m\u001b[1m  You can now view your Streamlit app in your browser.\u001b[0m\n",
      "\u001b[0m\n",
      "\u001b[34m  Local URL: \u001b[0m\u001b[1mhttp://localhost:8501\u001b[0m\n",
      "\u001b[34m  Network URL: \u001b[0m\u001b[1mhttp://10.10.8.2:8501\u001b[0m\n",
      "\u001b[0m\n",
      "2024-09-26 21:00:10.402 Uncaught app exception\n",
      "Traceback (most recent call last):\n",
      "  File \"/Users/rmitta/opt/anaconda3/envs/zerotwo/lib/python3.10/site-packages/streamlit/runtime/scriptrunner/script_runner.py\", line 542, in _run_script\n",
      "    exec(code, module.__dict__)\n",
      "  File \"/Volumes/Fatboy/Indian Traffic/cities/streamlit/cities/pages/3 Imputation.py\", line 146, in <module>\n",
      "    initial_gps = metricss[metricss['city'] == st.session_state.selected_city.lower()]['gpscount'].values[0]\n",
      "IndexError: index 0 is out of bounds for axis 0 with size 0\n",
      "2024-09-26 21:00:11.210 Uncaught app exception\n",
      "Traceback (most recent call last):\n",
      "  File \"/Users/rmitta/opt/anaconda3/envs/zerotwo/lib/python3.10/site-packages/streamlit/runtime/scriptrunner/script_runner.py\", line 542, in _run_script\n",
      "    exec(code, module.__dict__)\n",
      "  File \"/Volumes/Fatboy/Indian Traffic/cities/streamlit/cities/pages/3 Imputation.py\", line 146, in <module>\n",
      "    initial_gps = metricss[metricss['city'] == st.session_state.selected_city.lower()]['gpscount'].values[0]\n",
      "IndexError: index 0 is out of bounds for axis 0 with size 0\n",
      "2024-09-26 21:00:19.721 Uncaught app exception\n",
      "Traceback (most recent call last):\n",
      "  File \"/Users/rmitta/opt/anaconda3/envs/zerotwo/lib/python3.10/site-packages/streamlit/runtime/scriptrunner/script_runner.py\", line 542, in _run_script\n",
      "    exec(code, module.__dict__)\n",
      "  File \"/Volumes/Fatboy/Indian Traffic/cities/streamlit/cities/pages/3 Imputation.py\", line 146, in <module>\n",
      "    initial_gps = metricss[metricss['city'] == st.session_state.selected_city.lower()]['gpscount'].values[0]\n",
      "IndexError: index 0 is out of bounds for axis 0 with size 0\n",
      "2024-09-26 21:00:20.569 Uncaught app exception\n",
      "Traceback (most recent call last):\n",
      "  File \"/Users/rmitta/opt/anaconda3/envs/zerotwo/lib/python3.10/site-packages/streamlit/runtime/scriptrunner/script_runner.py\", line 542, in _run_script\n",
      "    exec(code, module.__dict__)\n",
      "  File \"/Volumes/Fatboy/Indian Traffic/cities/streamlit/cities/pages/3 Imputation.py\", line 146, in <module>\n",
      "    initial_gps = metricss[metricss['city'] == st.session_state.selected_city.lower()]['gpscount'].values[0]\n",
      "IndexError: index 0 is out of bounds for axis 0 with size 0\n"
     ]
    }
   ],
   "source": [
    "!streamlit run Data_Overview.py"
   ]
  },
  {
   "cell_type": "code",
   "execution_count": 7,
   "metadata": {},
   "outputs": [],
   "source": [
    "p = 'data/variability/bhopal/2021/car_F_COUNT_variability.png'"
   ]
  },
  {
   "cell_type": "code",
   "execution_count": 8,
   "metadata": {},
   "outputs": [
    {
     "name": "stdout",
     "output_type": "stream",
     "text": [
      "File exists\n"
     ]
    }
   ],
   "source": [
    "# chceck if p has a file\n",
    "import os\n",
    "if os.path.isfile(p):\n",
    "       print('File exists')"
   ]
  }
 ],
 "metadata": {
  "kernelspec": {
   "display_name": "Python 3.10.6 ('zerotwo')",
   "language": "python",
   "name": "python3"
  },
  "language_info": {
   "codemirror_mode": {
    "name": "ipython",
    "version": 3
   },
   "file_extension": ".py",
   "mimetype": "text/x-python",
   "name": "python",
   "nbconvert_exporter": "python",
   "pygments_lexer": "ipython3",
   "version": "3.10.6"
  },
  "orig_nbformat": 4,
  "vscode": {
   "interpreter": {
    "hash": "9bfb04bc2ddf749979761a4feac0c518cf5ca390f648d1feb34c0cf89edffd23"
   }
  }
 },
 "nbformat": 4,
 "nbformat_minor": 2
}
