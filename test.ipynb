{
 "cells": [
  {
   "cell_type": "code",
   "execution_count": 4,
   "metadata": {},
   "outputs": [
    {
     "name": "stdout",
     "output_type": "stream",
     "text": [
      "2024-05-07 16:26:17.520 INFO    numexpr.utils: Note: NumExpr detected 10 cores but \"NUMEXPR_MAX_THREADS\" not set, so enforcing safe limit of 8.\n",
      "2024-05-07 16:26:17.520 INFO    numexpr.utils: NumExpr defaulting to 8 threads.\n",
      "\u001b[0m\n",
      "\u001b[34m\u001b[1m  You can now view your Streamlit app in your browser.\u001b[0m\n",
      "\u001b[0m\n",
      "\u001b[34m  Local URL: \u001b[0m\u001b[1mhttp://localhost:8501\u001b[0m\n",
      "\u001b[34m  Network URL: \u001b[0m\u001b[1mhttp://157.136.73.104:8501\u001b[0m\n",
      "\u001b[0m\n",
      "\n",
      "  \u001b[34m\u001b[1mA new version of Streamlit is available.\u001b[0m\n",
      "\n",
      "  See what's new at https://discuss.streamlit.io/c/announcements\n",
      "\n",
      "  Enter the following command to upgrade:\n",
      "  \u001b[34m$\u001b[0m \u001b[1mpip install streamlit --upgrade\u001b[0m\n",
      "\u001b[0m\n",
      "2024-05-07 16:26:21.759 Uncaught app exception\n",
      "Traceback (most recent call last):\n",
      "  File \"/Users/rmitta/opt/anaconda3/envs/zerotwo/lib/python3.10/site-packages/streamlit/runtime/scriptrunner/script_runner.py\", line 556, in _run_script\n",
      "    exec(code, module.__dict__)\n",
      "  File \"/Users/rmitta/Desktop/work/3. Indian Traffic/streamlit/cities/Data_Overview.py\", line 19, in <module>\n",
      "    st.image(f'data/{city.lower()}/hoursreported.png')\n",
      "  File \"/Users/rmitta/opt/anaconda3/envs/zerotwo/lib/python3.10/site-packages/streamlit/elements/image.py\", line 138, in image\n",
      "    marshall_images(\n",
      "  File \"/Users/rmitta/opt/anaconda3/envs/zerotwo/lib/python3.10/site-packages/streamlit/elements/image.py\", line 423, in marshall_images\n",
      "    proto_img.url = image_to_url(\n",
      "  File \"/Users/rmitta/opt/anaconda3/envs/zerotwo/lib/python3.10/site-packages/streamlit/elements/image.py\", line 339, in image_to_url\n",
      "    with open(image, \"rb\") as f:\n",
      "FileNotFoundError: [Errno 2] No such file or directory: 'data/chandigarh/hoursreported.png'\n",
      "2024-05-07 16:35:12.792 Uncaught app exception\n",
      "Traceback (most recent call last):\n",
      "  File \"/Users/rmitta/opt/anaconda3/envs/zerotwo/lib/python3.10/site-packages/streamlit/runtime/scriptrunner/script_runner.py\", line 556, in _run_script\n",
      "    exec(code, module.__dict__)\n",
      "  File \"/Users/rmitta/Desktop/work/3. Indian Traffic/streamlit/cities/Data_Overview.py\", line 40, in <module>\n",
      "    st.image(f'data/{city.lower()}/countmap.png')\n",
      "  File \"/Users/rmitta/opt/anaconda3/envs/zerotwo/lib/python3.10/site-packages/streamlit/elements/image.py\", line 138, in image\n",
      "    marshall_images(\n",
      "  File \"/Users/rmitta/opt/anaconda3/envs/zerotwo/lib/python3.10/site-packages/streamlit/elements/image.py\", line 423, in marshall_images\n",
      "    proto_img.url = image_to_url(\n",
      "  File \"/Users/rmitta/opt/anaconda3/envs/zerotwo/lib/python3.10/site-packages/streamlit/elements/image.py\", line 339, in image_to_url\n",
      "    with open(image, \"rb\") as f:\n",
      "FileNotFoundError: [Errno 2] No such file or directory: 'data/chandigarh/countmap.png'\n",
      "2024-05-07 16:37:24.758 Uncaught app exception\n",
      "Traceback (most recent call last):\n",
      "  File \"/Users/rmitta/opt/anaconda3/envs/zerotwo/lib/python3.10/site-packages/streamlit/runtime/scriptrunner/script_runner.py\", line 556, in _run_script\n",
      "    exec(code, module.__dict__)\n",
      "  File \"/Users/rmitta/Desktop/work/3. Indian Traffic/streamlit/cities/Data_Overview.py\", line 19, in <module>\n",
      "    st.image(f'data/{city.lower()}/hoursreported.png')\n",
      "  File \"/Users/rmitta/opt/anaconda3/envs/zerotwo/lib/python3.10/site-packages/streamlit/elements/image.py\", line 138, in image\n",
      "    marshall_images(\n",
      "  File \"/Users/rmitta/opt/anaconda3/envs/zerotwo/lib/python3.10/site-packages/streamlit/elements/image.py\", line 423, in marshall_images\n",
      "    proto_img.url = image_to_url(\n",
      "  File \"/Users/rmitta/opt/anaconda3/envs/zerotwo/lib/python3.10/site-packages/streamlit/elements/image.py\", line 339, in image_to_url\n",
      "    with open(image, \"rb\") as f:\n",
      "FileNotFoundError: [Errno 2] No such file or directory: 'data/delhi/hoursreported.png'\n",
      "2024-05-07 16:37:27.768 Uncaught app exception\n",
      "Traceback (most recent call last):\n",
      "  File \"/Users/rmitta/opt/anaconda3/envs/zerotwo/lib/python3.10/site-packages/streamlit/runtime/scriptrunner/script_runner.py\", line 556, in _run_script\n",
      "    exec(code, module.__dict__)\n",
      "  File \"/Users/rmitta/Desktop/work/3. Indian Traffic/streamlit/cities/Data_Overview.py\", line 19, in <module>\n",
      "    st.image(f'data/{city.lower()}/hoursreported.png')\n",
      "  File \"/Users/rmitta/opt/anaconda3/envs/zerotwo/lib/python3.10/site-packages/streamlit/elements/image.py\", line 138, in image\n",
      "    marshall_images(\n",
      "  File \"/Users/rmitta/opt/anaconda3/envs/zerotwo/lib/python3.10/site-packages/streamlit/elements/image.py\", line 423, in marshall_images\n",
      "    proto_img.url = image_to_url(\n",
      "  File \"/Users/rmitta/opt/anaconda3/envs/zerotwo/lib/python3.10/site-packages/streamlit/elements/image.py\", line 339, in image_to_url\n",
      "    with open(image, \"rb\") as f:\n",
      "FileNotFoundError: [Errno 2] No such file or directory: 'data/mumbai/hoursreported.png'\n",
      "2024-05-07 16:37:31.941 Uncaught app exception\n",
      "Traceback (most recent call last):\n",
      "  File \"/Users/rmitta/opt/anaconda3/envs/zerotwo/lib/python3.10/site-packages/streamlit/runtime/scriptrunner/script_runner.py\", line 556, in _run_script\n",
      "    exec(code, module.__dict__)\n",
      "  File \"/Users/rmitta/Desktop/work/3. Indian Traffic/streamlit/cities/Data_Overview.py\", line 43, in <module>\n",
      "    st.image(f'data/{city.lower()}/speedmap.png')\n",
      "  File \"/Users/rmitta/opt/anaconda3/envs/zerotwo/lib/python3.10/site-packages/streamlit/elements/image.py\", line 138, in image\n",
      "    marshall_images(\n",
      "  File \"/Users/rmitta/opt/anaconda3/envs/zerotwo/lib/python3.10/site-packages/streamlit/elements/image.py\", line 423, in marshall_images\n",
      "    proto_img.url = image_to_url(\n",
      "  File \"/Users/rmitta/opt/anaconda3/envs/zerotwo/lib/python3.10/site-packages/streamlit/elements/image.py\", line 339, in image_to_url\n",
      "    with open(image, \"rb\") as f:\n",
      "FileNotFoundError: [Errno 2] No such file or directory: 'data/chandigarh/speedmap.png'\n"
     ]
    }
   ],
   "source": [
    "!streamlit run Data_Overview.py"
   ]
  }
 ],
 "metadata": {
  "kernelspec": {
   "display_name": "Python 3.10.6 ('zerotwo')",
   "language": "python",
   "name": "python3"
  },
  "language_info": {
   "codemirror_mode": {
    "name": "ipython",
    "version": 3
   },
   "file_extension": ".py",
   "mimetype": "text/x-python",
   "name": "python",
   "nbconvert_exporter": "python",
   "pygments_lexer": "ipython3",
   "version": "3.10.6"
  },
  "orig_nbformat": 4,
  "vscode": {
   "interpreter": {
    "hash": "9bfb04bc2ddf749979761a4feac0c518cf5ca390f648d1feb34c0cf89edffd23"
   }
  }
 },
 "nbformat": 4,
 "nbformat_minor": 2
}
