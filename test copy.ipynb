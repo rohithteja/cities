{
 "cells": [
  {
   "cell_type": "code",
   "execution_count": 1,
   "metadata": {},
   "outputs": [],
   "source": [
    "import pandas as pd\n",
    "import geopandas as gpd\n",
    "\n",
    "df = pd.read_csv('data/df_stats_streamlit.csv')"
   ]
  },
  {
   "cell_type": "code",
   "execution_count": 2,
   "metadata": {},
   "outputs": [],
   "source": [
    "city_latlon = {\n",
    "    \"kohima\": (25.6747, 94.1100),\n",
    "    \"panaji\": (15.4909, 73.8278),\n",
    "    \"itanagar\": (27.0844, 93.6053),\n",
    "    \"gangtok\": (27.3389, 88.6065),\n",
    "    \"shilong\": (25.5788, 91.8933),\n",
    "    \"nalgonda\": (17.0575, 79.2671),\n",
    "    \"shimla\": (31.1048, 77.1734),\n",
    "    \"imphal\": (24.8170, 93.9368),\n",
    "    \"rourkela\": (22.2604, 84.8536),\n",
    "    \"siliguri\": (26.7271, 88.3953),\n",
    "    \"durgapur\": (23.5204, 87.3119),\n",
    "    \"dewas\": (22.9659, 76.0553),\n",
    "    \"aizawl\": (23.7271, 92.7176),\n",
    "    \"haldia\": (22.0667, 88.0698),\n",
    "    \"sagar\": (23.8388, 78.7378),\n",
    "    \"jabalpur\": (23.1815, 79.9864),\n",
    "    \"thoothukkudi\": (8.7642, 78.1348),\n",
    "    \"shivamogga\": (13.9299, 75.5681),\n",
    "    \"kurnool\": (15.8222, 78.0350),\n",
    "    \"jalpaiguri\": (26.5170, 88.7196),\n",
    "    \"korba\": (22.3475, 82.6966),\n",
    "    \"alwar\": (27.5529, 76.6346),\n",
    "    \"silchar\": (24.8273, 92.7979),\n",
    "    \"udaipur\": (24.5854, 73.7125),\n",
    "    \"erode\": (11.3410, 77.7172),\n",
    "    \"muzaffarpur\": (26.1220, 85.3906),\n",
    "    \"ujjain\": (23.1793, 75.7849),\n",
    "    \"kolhapur\": (16.7050, 74.2433),\n",
    "    \"agartala\": (23.8315, 91.2868),\n",
    "    \"sangli-miraj-kupwad\": (16.8524, 74.5815),\n",
    "    \"gaya\": (24.7969, 85.0002),\n",
    "    \"nellore\": (14.4426, 79.9865),\n",
    "    \"jalgaon\": (21.0077, 75.5626),\n",
    "    \"bhilainagar\": (21.1950, 81.3509),\n",
    "    \"jhansi\": (25.4484, 78.5685),\n",
    "    \"mangaluru\": (12.9141, 74.8560),\n",
    "    \"patiala\": (30.3398, 76.3869),\n",
    "    \"amravati\": (20.9374, 77.7796),\n",
    "    \"dehradun\": (30.3165, 78.0322),\n",
    "    \"guntur\": (16.3067, 80.4365),\n",
    "    \"firozabad\": (27.1496, 78.3949),\n",
    "    \"tiruppur\": (11.1085, 77.3411),\n",
    "    \"chandigarh\": (30.7333, 76.7794),\n",
    "    \"cuttack\": (20.4625, 85.8828),\n",
    "    \"warangal\": (17.9784, 79.5941),\n",
    "    \"mysuru\": (12.2958, 76.6394),\n",
    "    \"jammu\": (32.7266, 74.8570),\n",
    "    \"srinagar\": (34.0837, 74.7973),\n",
    "    \"bhubaneswar\": (20.2961, 85.8245),\n",
    "    \"vijaywada\": (16.5062, 80.6480),\n",
    "    \"aligarh\": (27.8974, 78.0880),\n",
    "    \"jodhpur\": (26.2389, 73.0243),\n",
    "    \"hubli dharwad\": (15.3647, 75.1240),\n",
    "    \"kochi\": (9.9312, 76.2673),\n",
    "    \"solapur\": (17.6599, 75.9064),\n",
    "    \"tiruchirappalli\": (10.7905, 78.7047),\n",
    "    \"gurgaon\": (28.4595, 77.0266),\n",
    "    \"jalandhar\": (31.3260, 75.5762),\n",
    "    \"guwahati\": (26.1445, 91.7362),\n",
    "    \"amritsar\": (31.6340, 74.8723),\n",
    "    \"raipur\": (21.2514, 81.6296),\n",
    "    \"bareilly\": (28.3670, 79.4304),\n",
    "    \"kota\": (25.2138, 75.8648),\n",
    "    \"noida\": (28.5355, 77.3910),\n",
    "    \"rajkot\": (22.3039, 70.8022),\n",
    "    \"moradabad\": (28.8386, 78.7733),\n",
    "    \"aurangabad\": (19.8762, 75.3433),\n",
    "    \"ranchi\": (23.3441, 85.3096),\n",
    "    \"gwalior\": (26.2183, 78.1828),\n",
    "    \"jamshedpur\": (22.8046, 86.2029),\n",
    "    \"coimbatore\": (11.0168, 76.9558),\n",
    "    \"meerut\": (28.9845, 77.7064),\n",
    "    \"dhanbad\": (23.7957, 86.4304),\n",
    "    \"allahabad\": (25.4358, 81.8463),\n",
    "    \"madurai\": (9.9252, 78.1198),\n",
    "    \"nashik\": (19.9975, 73.7898),\n",
    "    \"ludhiana\": (30.9005, 75.8573),\n",
    "    \"faridabad\": (28.4089, 77.3178),\n",
    "    \"vadodara\": (22.3072, 73.1812),\n",
    "    \"varanashi\": (25.3176, 82.9739),\n",
    "    \"agra\": (27.1767, 78.0081),\n",
    "    \"thiruvananthapuram\": (8.5241, 76.9366),\n",
    "    \"vishakhapatnam\": (17.6868, 83.2185),\n",
    "    \"patna\": (25.5941, 85.1376),\n",
    "    \"ghaziabad\": (28.6692, 77.4538),\n",
    "    \"bhopal\": (23.2599, 77.4126),\n",
    "    \"nagpur\": (21.1458, 79.0882),\n",
    "    \"indore\": (22.7196, 75.8577),\n",
    "    \"kanpur\": (26.4499, 80.3319),\n",
    "    \"jaipur\": (26.9124, 75.7873),\n",
    "    \"lucknow\": (26.8467, 80.9462),\n",
    "    \"pune\": (18.5204, 73.8567),\n",
    "    \"surat\": (21.1702, 72.8311),\n",
    "    \"kolkata\": (22.5726, 88.3639),\n",
    "    \"hyderabad\": (17.3850, 78.4867),\n",
    "    \"chennai\": (13.0827, 80.2707),\n",
    "    \"ahmedabad\": (23.0225, 72.5714),\n",
    "    \"bengaluru\": (12.9716, 77.5946),\n",
    "    \"mumbai\": (19.0760, 72.8777),\n",
    "    \"delhi\": (28.6139, 77.2090)\n",
    "}\n",
    "df['lat'] = df['city'].map(lambda x: city_latlon[x][0] if x in city_latlon else None)\n",
    "df['lon'] = df['city'].map(lambda x: city_latlon[x][1] if x in city_latlon else None)\n",
    "df['co2_pc'] = df['co2'] / df['population_2020']"
   ]
  },
  {
   "cell_type": "code",
   "execution_count": 3,
   "metadata": {},
   "outputs": [],
   "source": [
    "df.to_csv('data/df_stats_streamlit.csv', index=False)"
   ]
  },
  {
   "cell_type": "code",
   "execution_count": 1,
   "metadata": {},
   "outputs": [
    {
     "name": "stderr",
     "output_type": "stream",
     "text": [
      "/var/folders/x7/dz3jlv097wq9y76dx0jvr12r0000gn/T/ipykernel_40896/3311635614.py:15: DeprecationWarning: *scatter_mapbox* is deprecated! Use *scatter_map* instead. Learn more at: https://plotly.com/python/mapbox-to-maplibre/\n",
      "  fig = px.scatter_mapbox(\n"
     ]
    },
    {
     "data": {
      "application/vnd.plotly.v1+json": {
       "config": {
        "plotlyServerURL": "https://plot.ly"
       },
       "data": [
        {
         "hovertemplate": "pop_scaled=%{marker.size}<br>lat=%{lat}<br>lon=%{lon}<br>co2_pc=%{marker.color}<extra></extra>",
         "lat": {
          "bdata": "XI/C9SicPEBSuB6F6xEzQA==",
          "dtype": "f8"
         },
         "legendgroup": "",
         "lon": {
          "bdata": "H4XrUbhOU0BI4XoUrjdSQA==",
          "dtype": "f8"
         },
         "marker": {
          "color": {
           "bdata": "AAAAAAAABECamZmZmZkJQA==",
           "dtype": "f8"
          },
          "coloraxis": "coloraxis",
          "size": {
           "bdata": "Cgg=",
           "dtype": "i1"
          },
          "sizemode": "area",
          "sizeref": 0.025
         },
         "mode": "markers",
         "name": "",
         "showlegend": false,
         "subplot": "mapbox",
         "type": "scattermapbox"
        }
       ],
       "layout": {
        "coloraxis": {
         "colorbar": {
          "title": {
           "text": "co2_pc"
          }
         },
         "colorscale": [
          [
           0,
           "#0d0887"
          ],
          [
           0.1111111111111111,
           "#46039f"
          ],
          [
           0.2222222222222222,
           "#7201a8"
          ],
          [
           0.3333333333333333,
           "#9c179e"
          ],
          [
           0.4444444444444444,
           "#bd3786"
          ],
          [
           0.5555555555555556,
           "#d8576b"
          ],
          [
           0.6666666666666666,
           "#ed7953"
          ],
          [
           0.7777777777777778,
           "#fb9f3a"
          ],
          [
           0.8888888888888888,
           "#fdca26"
          ],
          [
           1,
           "#f0f921"
          ]
         ]
        },
        "legend": {
         "itemsizing": "constant",
         "tracegroupgap": 0
        },
        "mapbox": {
         "center": {
          "lat": 23.84,
          "lon": 75.05000000000001
         },
         "domain": {
          "x": [
           0,
           1
          ],
          "y": [
           0,
           1
          ]
         },
         "style": "carto-positron",
         "zoom": 4
        },
        "margin": {
         "t": 60
        },
        "template": {
         "data": {
          "bar": [
           {
            "error_x": {
             "color": "#2a3f5f"
            },
            "error_y": {
             "color": "#2a3f5f"
            },
            "marker": {
             "line": {
              "color": "#E5ECF6",
              "width": 0.5
             },
             "pattern": {
              "fillmode": "overlay",
              "size": 10,
              "solidity": 0.2
             }
            },
            "type": "bar"
           }
          ],
          "barpolar": [
           {
            "marker": {
             "line": {
              "color": "#E5ECF6",
              "width": 0.5
             },
             "pattern": {
              "fillmode": "overlay",
              "size": 10,
              "solidity": 0.2
             }
            },
            "type": "barpolar"
           }
          ],
          "carpet": [
           {
            "aaxis": {
             "endlinecolor": "#2a3f5f",
             "gridcolor": "white",
             "linecolor": "white",
             "minorgridcolor": "white",
             "startlinecolor": "#2a3f5f"
            },
            "baxis": {
             "endlinecolor": "#2a3f5f",
             "gridcolor": "white",
             "linecolor": "white",
             "minorgridcolor": "white",
             "startlinecolor": "#2a3f5f"
            },
            "type": "carpet"
           }
          ],
          "choropleth": [
           {
            "colorbar": {
             "outlinewidth": 0,
             "ticks": ""
            },
            "type": "choropleth"
           }
          ],
          "contour": [
           {
            "colorbar": {
             "outlinewidth": 0,
             "ticks": ""
            },
            "colorscale": [
             [
              0,
              "#0d0887"
             ],
             [
              0.1111111111111111,
              "#46039f"
             ],
             [
              0.2222222222222222,
              "#7201a8"
             ],
             [
              0.3333333333333333,
              "#9c179e"
             ],
             [
              0.4444444444444444,
              "#bd3786"
             ],
             [
              0.5555555555555556,
              "#d8576b"
             ],
             [
              0.6666666666666666,
              "#ed7953"
             ],
             [
              0.7777777777777778,
              "#fb9f3a"
             ],
             [
              0.8888888888888888,
              "#fdca26"
             ],
             [
              1,
              "#f0f921"
             ]
            ],
            "type": "contour"
           }
          ],
          "contourcarpet": [
           {
            "colorbar": {
             "outlinewidth": 0,
             "ticks": ""
            },
            "type": "contourcarpet"
           }
          ],
          "heatmap": [
           {
            "colorbar": {
             "outlinewidth": 0,
             "ticks": ""
            },
            "colorscale": [
             [
              0,
              "#0d0887"
             ],
             [
              0.1111111111111111,
              "#46039f"
             ],
             [
              0.2222222222222222,
              "#7201a8"
             ],
             [
              0.3333333333333333,
              "#9c179e"
             ],
             [
              0.4444444444444444,
              "#bd3786"
             ],
             [
              0.5555555555555556,
              "#d8576b"
             ],
             [
              0.6666666666666666,
              "#ed7953"
             ],
             [
              0.7777777777777778,
              "#fb9f3a"
             ],
             [
              0.8888888888888888,
              "#fdca26"
             ],
             [
              1,
              "#f0f921"
             ]
            ],
            "type": "heatmap"
           }
          ],
          "histogram": [
           {
            "marker": {
             "pattern": {
              "fillmode": "overlay",
              "size": 10,
              "solidity": 0.2
             }
            },
            "type": "histogram"
           }
          ],
          "histogram2d": [
           {
            "colorbar": {
             "outlinewidth": 0,
             "ticks": ""
            },
            "colorscale": [
             [
              0,
              "#0d0887"
             ],
             [
              0.1111111111111111,
              "#46039f"
             ],
             [
              0.2222222222222222,
              "#7201a8"
             ],
             [
              0.3333333333333333,
              "#9c179e"
             ],
             [
              0.4444444444444444,
              "#bd3786"
             ],
             [
              0.5555555555555556,
              "#d8576b"
             ],
             [
              0.6666666666666666,
              "#ed7953"
             ],
             [
              0.7777777777777778,
              "#fb9f3a"
             ],
             [
              0.8888888888888888,
              "#fdca26"
             ],
             [
              1,
              "#f0f921"
             ]
            ],
            "type": "histogram2d"
           }
          ],
          "histogram2dcontour": [
           {
            "colorbar": {
             "outlinewidth": 0,
             "ticks": ""
            },
            "colorscale": [
             [
              0,
              "#0d0887"
             ],
             [
              0.1111111111111111,
              "#46039f"
             ],
             [
              0.2222222222222222,
              "#7201a8"
             ],
             [
              0.3333333333333333,
              "#9c179e"
             ],
             [
              0.4444444444444444,
              "#bd3786"
             ],
             [
              0.5555555555555556,
              "#d8576b"
             ],
             [
              0.6666666666666666,
              "#ed7953"
             ],
             [
              0.7777777777777778,
              "#fb9f3a"
             ],
             [
              0.8888888888888888,
              "#fdca26"
             ],
             [
              1,
              "#f0f921"
             ]
            ],
            "type": "histogram2dcontour"
           }
          ],
          "mesh3d": [
           {
            "colorbar": {
             "outlinewidth": 0,
             "ticks": ""
            },
            "type": "mesh3d"
           }
          ],
          "parcoords": [
           {
            "line": {
             "colorbar": {
              "outlinewidth": 0,
              "ticks": ""
             }
            },
            "type": "parcoords"
           }
          ],
          "pie": [
           {
            "automargin": true,
            "type": "pie"
           }
          ],
          "scatter": [
           {
            "fillpattern": {
             "fillmode": "overlay",
             "size": 10,
             "solidity": 0.2
            },
            "type": "scatter"
           }
          ],
          "scatter3d": [
           {
            "line": {
             "colorbar": {
              "outlinewidth": 0,
              "ticks": ""
             }
            },
            "marker": {
             "colorbar": {
              "outlinewidth": 0,
              "ticks": ""
             }
            },
            "type": "scatter3d"
           }
          ],
          "scattercarpet": [
           {
            "marker": {
             "colorbar": {
              "outlinewidth": 0,
              "ticks": ""
             }
            },
            "type": "scattercarpet"
           }
          ],
          "scattergeo": [
           {
            "marker": {
             "colorbar": {
              "outlinewidth": 0,
              "ticks": ""
             }
            },
            "type": "scattergeo"
           }
          ],
          "scattergl": [
           {
            "marker": {
             "colorbar": {
              "outlinewidth": 0,
              "ticks": ""
             }
            },
            "type": "scattergl"
           }
          ],
          "scattermap": [
           {
            "marker": {
             "colorbar": {
              "outlinewidth": 0,
              "ticks": ""
             }
            },
            "type": "scattermap"
           }
          ],
          "scattermapbox": [
           {
            "marker": {
             "colorbar": {
              "outlinewidth": 0,
              "ticks": ""
             }
            },
            "type": "scattermapbox"
           }
          ],
          "scatterpolar": [
           {
            "marker": {
             "colorbar": {
              "outlinewidth": 0,
              "ticks": ""
             }
            },
            "type": "scatterpolar"
           }
          ],
          "scatterpolargl": [
           {
            "marker": {
             "colorbar": {
              "outlinewidth": 0,
              "ticks": ""
             }
            },
            "type": "scatterpolargl"
           }
          ],
          "scatterternary": [
           {
            "marker": {
             "colorbar": {
              "outlinewidth": 0,
              "ticks": ""
             }
            },
            "type": "scatterternary"
           }
          ],
          "surface": [
           {
            "colorbar": {
             "outlinewidth": 0,
             "ticks": ""
            },
            "colorscale": [
             [
              0,
              "#0d0887"
             ],
             [
              0.1111111111111111,
              "#46039f"
             ],
             [
              0.2222222222222222,
              "#7201a8"
             ],
             [
              0.3333333333333333,
              "#9c179e"
             ],
             [
              0.4444444444444444,
              "#bd3786"
             ],
             [
              0.5555555555555556,
              "#d8576b"
             ],
             [
              0.6666666666666666,
              "#ed7953"
             ],
             [
              0.7777777777777778,
              "#fb9f3a"
             ],
             [
              0.8888888888888888,
              "#fdca26"
             ],
             [
              1,
              "#f0f921"
             ]
            ],
            "type": "surface"
           }
          ],
          "table": [
           {
            "cells": {
             "fill": {
              "color": "#EBF0F8"
             },
             "line": {
              "color": "white"
             }
            },
            "header": {
             "fill": {
              "color": "#C8D4E3"
             },
             "line": {
              "color": "white"
             }
            },
            "type": "table"
           }
          ]
         },
         "layout": {
          "annotationdefaults": {
           "arrowcolor": "#2a3f5f",
           "arrowhead": 0,
           "arrowwidth": 1
          },
          "autotypenumbers": "strict",
          "coloraxis": {
           "colorbar": {
            "outlinewidth": 0,
            "ticks": ""
           }
          },
          "colorscale": {
           "diverging": [
            [
             0,
             "#8e0152"
            ],
            [
             0.1,
             "#c51b7d"
            ],
            [
             0.2,
             "#de77ae"
            ],
            [
             0.3,
             "#f1b6da"
            ],
            [
             0.4,
             "#fde0ef"
            ],
            [
             0.5,
             "#f7f7f7"
            ],
            [
             0.6,
             "#e6f5d0"
            ],
            [
             0.7,
             "#b8e186"
            ],
            [
             0.8,
             "#7fbc41"
            ],
            [
             0.9,
             "#4d9221"
            ],
            [
             1,
             "#276419"
            ]
           ],
           "sequential": [
            [
             0,
             "#0d0887"
            ],
            [
             0.1111111111111111,
             "#46039f"
            ],
            [
             0.2222222222222222,
             "#7201a8"
            ],
            [
             0.3333333333333333,
             "#9c179e"
            ],
            [
             0.4444444444444444,
             "#bd3786"
            ],
            [
             0.5555555555555556,
             "#d8576b"
            ],
            [
             0.6666666666666666,
             "#ed7953"
            ],
            [
             0.7777777777777778,
             "#fb9f3a"
            ],
            [
             0.8888888888888888,
             "#fdca26"
            ],
            [
             1,
             "#f0f921"
            ]
           ],
           "sequentialminus": [
            [
             0,
             "#0d0887"
            ],
            [
             0.1111111111111111,
             "#46039f"
            ],
            [
             0.2222222222222222,
             "#7201a8"
            ],
            [
             0.3333333333333333,
             "#9c179e"
            ],
            [
             0.4444444444444444,
             "#bd3786"
            ],
            [
             0.5555555555555556,
             "#d8576b"
            ],
            [
             0.6666666666666666,
             "#ed7953"
            ],
            [
             0.7777777777777778,
             "#fb9f3a"
            ],
            [
             0.8888888888888888,
             "#fdca26"
            ],
            [
             1,
             "#f0f921"
            ]
           ]
          },
          "colorway": [
           "#636efa",
           "#EF553B",
           "#00cc96",
           "#ab63fa",
           "#FFA15A",
           "#19d3f3",
           "#FF6692",
           "#B6E880",
           "#FF97FF",
           "#FECB52"
          ],
          "font": {
           "color": "#2a3f5f"
          },
          "geo": {
           "bgcolor": "white",
           "lakecolor": "white",
           "landcolor": "#E5ECF6",
           "showlakes": true,
           "showland": true,
           "subunitcolor": "white"
          },
          "hoverlabel": {
           "align": "left"
          },
          "hovermode": "closest",
          "mapbox": {
           "style": "light"
          },
          "paper_bgcolor": "white",
          "plot_bgcolor": "#E5ECF6",
          "polar": {
           "angularaxis": {
            "gridcolor": "white",
            "linecolor": "white",
            "ticks": ""
           },
           "bgcolor": "#E5ECF6",
           "radialaxis": {
            "gridcolor": "white",
            "linecolor": "white",
            "ticks": ""
           }
          },
          "scene": {
           "xaxis": {
            "backgroundcolor": "#E5ECF6",
            "gridcolor": "white",
            "gridwidth": 2,
            "linecolor": "white",
            "showbackground": true,
            "ticks": "",
            "zerolinecolor": "white"
           },
           "yaxis": {
            "backgroundcolor": "#E5ECF6",
            "gridcolor": "white",
            "gridwidth": 2,
            "linecolor": "white",
            "showbackground": true,
            "ticks": "",
            "zerolinecolor": "white"
           },
           "zaxis": {
            "backgroundcolor": "#E5ECF6",
            "gridcolor": "white",
            "gridwidth": 2,
            "linecolor": "white",
            "showbackground": true,
            "ticks": "",
            "zerolinecolor": "white"
           }
          },
          "shapedefaults": {
           "line": {
            "color": "#2a3f5f"
           }
          },
          "ternary": {
           "aaxis": {
            "gridcolor": "white",
            "linecolor": "white",
            "ticks": ""
           },
           "baxis": {
            "gridcolor": "white",
            "linecolor": "white",
            "ticks": ""
           },
           "bgcolor": "#E5ECF6",
           "caxis": {
            "gridcolor": "white",
            "linecolor": "white",
            "ticks": ""
           }
          },
          "title": {
           "x": 0.05
          },
          "xaxis": {
           "automargin": true,
           "gridcolor": "white",
           "linecolor": "white",
           "ticks": "",
           "title": {
            "standoff": 15
           },
           "zerolinecolor": "white",
           "zerolinewidth": 2
          },
          "yaxis": {
           "automargin": true,
           "gridcolor": "white",
           "linecolor": "white",
           "ticks": "",
           "title": {
            "standoff": 15
           },
           "zerolinecolor": "white",
           "zerolinewidth": 2
          }
         }
        }
       }
      }
     },
     "metadata": {},
     "output_type": "display_data"
    }
   ],
   "source": [
    "import plotly.express as px\n",
    "import pandas as pd\n",
    "\n",
    "# Dummy test to verify scatter_mapbox works\n",
    "test_df = pd.DataFrame({\n",
    "    'city': ['Delhi', 'Mumbai'],\n",
    "    'lat': [28.61, 19.07],\n",
    "    'lon': [77.23, 72.87],\n",
    "    'co2_pc': [2.5, 3.2],\n",
    "    'population_2020': [30000000, 20000000]\n",
    "})\n",
    "\n",
    "test_df['pop_scaled'] = [10, 8]\n",
    "\n",
    "fig = px.scatter_mapbox(\n",
    "    test_df,\n",
    "    lat=\"lat\",\n",
    "    lon=\"lon\",\n",
    "    size=\"pop_scaled\",\n",
    "    color=\"co2_pc\",\n",
    "    mapbox_style=\"carto-positron\",\n",
    "    zoom=4\n",
    ")\n",
    "\n",
    "fig.show()\n"
   ]
  },
  {
   "cell_type": "code",
   "execution_count": null,
   "metadata": {},
   "outputs": [],
   "source": []
  },
  {
   "cell_type": "code",
   "execution_count": null,
   "metadata": {},
   "outputs": [],
   "source": [
    "\n",
    "\n",
    "types = ['All Cities', 'Top 15 Cities', 'Bottom 15 Cities']\n",
    "st.selectbox('Select Year', options=years, index=0, key='year')\n",
    "# filter based on city selection\n",
    "st.selectbox('Select Type', options=types, index=0, key='type')\n",
    "\n",
    "# set default year in session state\n",
    "if 'year' not in st.session_state:\n",
    "    st.session_state.year = 2021\n",
    "if 'type' not in st.session_state:\n",
    "    st.session_state.type = 'All Cities'\n",
    "df_filter = df[df.year == st.session_state.year].groupby(['city', 'vehicle']).sum().reset_index()\n",
    "if st.session_state.type == 'Top 15 Cities':\n",
    "    df_filter = df_filter.nlargest(15, 'co2_pc')\n",
    "elif st.session_state.type == 'Bottom 15 Cities':\n",
    "    df_filter = df_filter.nsmallest(15, 'co2_pc')\n",
    "\n",
    "st.markdown(\"### CO₂ Emissions by City in India\")\n",
    "st.markdown('''\n",
    "* Number of cities: ''' + str(len(df_filter.city.unique())) + '''\n",
    "* Size of markers = population of city\n",
    "* Color of markers = CO₂ emissions per capita (in tons)\n",
    "* Click on a marker to see more details (below the map)\n",
    "* Colorbar midpoint is set to the median CO₂ emissions per capita\n",
    "''')\n",
    "\n",
    "# Compute the median CO₂ per capita\n",
    "median_co2_pc = np.median(df_filter[\"co2_pc\"])\n",
    "\n",
    "# Scale population for better size visibility\n",
    "pop_scaled = np.log1p(df_filter['population_2020'])\n",
    "pop_scaled = 5 + 10 * (pop_scaled - pop_scaled.min()) / (pop_scaled.max() - pop_scaled.min())\n",
    "df_filter['pop_scaled'] = pop_scaled\n",
    "\n",
    "fig = px.scatter_map(\n",
    "    df_filter.round(2),\n",
    "    lat=\"lat\",\n",
    "    lon=\"lon\",\n",
    "    size=\"pop_scaled\",\n",
    "    size_max=15,\n",
    "    color=\"co2_pc\",\n",
    "    color_continuous_scale=\"plasma\",\n",
    "    color_continuous_midpoint=median_co2_pc,\n",
    "    range_color=[df_filter[\"co2_pc\"].min(), df_filter[\"co2_pc\"].max()],\n",
    "    custom_data=[\"city\", \"population_2020\"],\n",
    "    zoom=4,\n",
    "    height=800,\n",
    "    map_style=\"carto-positron\",  # still supported with MapLibre\n",
    ")\n",
    "\n",
    "# Keep text readable\n",
    "fig.update_traces(textfont_color='black')\n",
    "\n",
    "# Custom hovertemplate with actual population\n",
    "fig.update_traces(\n",
    "    hovertemplate=\"<b>%{customdata[0]}</b><br>\" +\n",
    "                  \"CO₂ Emissions: %{marker.color:.2f} tons per person<br>\" +\n",
    "                  \"Population: %{customdata[1]:,}<br>\" +\n",
    "                  f\"Year: {st.session_state.year}<extra></extra>\"\n",
    ")\n",
    "\n",
    "# Title and margins\n",
    "fig.update_layout(\n",
    "    title=f\"Year: {st.session_state.year}\",\n",
    "    margin={\"r\": 0, \"t\": 40, \"l\": 0, \"b\": 0}\n",
    ")\n",
    "\n",
    "# Colorbar title\n",
    "fig.update_layout(coloraxis_colorbar=dict(\n",
    "    title=\"CO₂ Emissions (tons per person)\",\n",
    "    title_side=\"right\",\n",
    "    title_font=dict(size=14),\n",
    "    tickfont=dict(size=12)\n",
    "))\n",
    "\n",
    "# Capture clicks\n",
    "selected_points = plotly_events(\n",
    "    fig,\n",
    "    click_event=True,\n",
    "    hover_event=False,\n",
    "    select_event=False,\n",
    "    override_height=800,\n",
    "    key=\"click-map\"\n",
    ")\n",
    "\n",
    "if selected_points:\n",
    "    point_index = selected_points[0]['pointIndex']  # or ['pointNumber']\n",
    "    selected_city = df_filter.iloc[point_index]['city']\n",
    "    st.markdown(f\"### 📍 Stats for {selected_city.title()}\")\n",
    "    city_data = df_filter[df_filter['city'] == selected_city]\n",
    "    st.markdown(f\"\"\"\n",
    "    • Population: {city_data['population_2020'].values[0]:,}\n",
    "    \"\"\")\n",
    "\n",
    "    st.markdown(\"Plots below show the values for the selected city over the years and compare them with the mean values for all cities.\")\n",
    "\n",
    "    st.markdown(\"### CO₂ Emissions Over Years\")\n",
    "    mean_df = df.groupby(['year', 'vehicle'])['co2_pc'].mean().reset_index()\n",
    "    mean_df.year = mean_df.year.astype(str)\n",
    "    plt.figure(figsize=(10,5),dpi=300)\n",
    "    city_df = df[df['city'] == selected_city]\n",
    "    sns.barplot(data=city_df, x='year', y='co2_pc', hue='vehicle', edgecolor='black')\n",
    "    sns.lineplot(data=mean_df, x='year', y='co2_pc', hue='vehicle', \n",
    "                linewidth=2, linestyle='--', legend=False)\n",
    "    for vehicle in mean_df['vehicle'].unique():\n",
    "        vehicle_data = mean_df[mean_df['vehicle'] == vehicle]\n",
    "        for i in range(len(vehicle_data)):\n",
    "            plt.text(x=vehicle_data['year'].iloc[i], y=vehicle_data['co2_pc'].iloc[i],\n",
    "                    s=f\"mean {vehicle}\", ha='center', va='bottom')\n",
    "\n",
    "    plt.title(f'CO₂ Emissions Over Years - {selected_city.title()}')\n",
    "    plt.xlabel('Year')\n",
    "    plt.ylabel('CO₂ Emissions (tons per person)')\n",
    "    plt.tight_layout()\n",
    "    st.pyplot(plt)\n",
    "\n",
    "    st.markdown(\"### VKT Over Years\")\n",
    "    mean_df = df.groupby(['year', 'vehicle'])['vkt_pc'].mean().reset_index()\n",
    "    mean_df.year = mean_df.year.astype(str)\n",
    "    plt.figure(figsize=(10,5),dpi=300)\n",
    "    city_df = df[df['city'] == selected_city]\n",
    "    sns.barplot(data=city_df, x='year', y='vkt_pc', hue='vehicle', edgecolor='black')\n",
    "    sns.lineplot(data=mean_df, x='year', y='vkt_pc', hue='vehicle', \n",
    "                linewidth=2, linestyle='--', legend=False)\n",
    "    for vehicle in mean_df['vehicle'].unique():\n",
    "        vehicle_data = mean_df[mean_df['vehicle'] == vehicle]\n",
    "        for i in range(len(vehicle_data)):\n",
    "            plt.text(x=vehicle_data['year'].iloc[i], y=vehicle_data['vkt_pc'].iloc[i],\n",
    "                    s=f\"mean {vehicle}\", ha='center', va='bottom')\n",
    "\n",
    "    plt.title(f'VKT Over Years - {selected_city.title()}')\n",
    "    plt.xlabel('Year')\n",
    "    plt.ylabel('VKT (vehicle kilometers traveled per person)')\n",
    "    plt.tight_layout()\n",
    "    st.pyplot(plt)\n",
    "\n",
    "    st.markdown(\"### Fuel Consumption Over Years\")\n",
    "    mean_df = df.groupby(['year', 'vehicle'])['consumption_pc'].mean().reset_index()\n",
    "    mean_df.year = mean_df.year.astype(str)\n",
    "    plt.figure(figsize=(10,5),dpi=300)\n",
    "    city_df = df[df['city'] == selected_city]\n",
    "    sns.barplot(data=city_df, x='year', y='consumption_pc', hue='vehicle', edgecolor='black')\n",
    "    sns.lineplot(data=mean_df, x='year', y='consumption_pc', hue='vehicle', \n",
    "                linewidth=2, linestyle='--', legend=False)\n",
    "    for vehicle in mean_df['vehicle'].unique():\n",
    "        vehicle_data = mean_df[mean_df['vehicle'] == vehicle]\n",
    "        for i in range(len(vehicle_data)):\n",
    "            plt.text(x=vehicle_data['year'].iloc[i], y=vehicle_data['consumption_pc'].iloc[i],\n",
    "                    s=f\"mean {vehicle}\", ha='center', va='bottom')\n",
    "\n",
    "    plt.title(f'Fuel Consumption Over Years - {selected_city.title()}')\n",
    "    plt.xlabel('Year')\n",
    "    plt.ylabel('Fuel Consumption (tons per person)')\n",
    "    plt.tight_layout()\n",
    "    st.pyplot(plt)"
   ]
  },
  {
   "cell_type": "code",
   "execution_count": 4,
   "metadata": {},
   "outputs": [],
   "source": [
    "import numpy as np\n",
    "df[\"co2_per_gdp\"] = df[\"co2\"] / df[\"gdp_billions\"]    # tonnes/billions usd\n",
    "df[\"gdp_per_fuel\"] = df[\"gdp_billions\"] / df[\"consumption\"] # billions usd/tonnes\n",
    "df[\"fuel_per_km\"] = df[\"consumption\"] / df[\"vkt\"]      # tonnes/km\n",
    "df[\"vkt_per_capita\"] = df[\"vkt\"] / df[\"population_2020\"]   # km/person\n",
    "df[\"co2_per_fuel\"] = df[\"co2\"] / df[\"consumption\"]          # tonnes/tonne fuel\n",
    "\n",
    "df[\"fuel_per_capita\"] = df[\"consumption\"] / df[\"population_2020\"]   # tonnes or liters per person\n",
    "df[\"urban_density\"] = df[\"population_2020\"] / df[\"urban_area_km2\"]  # people per km²\n",
    "df['sqrt_urban_area'] = np.sqrt(df['urban_area_km2'])"
   ]
  },
  {
   "cell_type": "code",
   "execution_count": 5,
   "metadata": {},
   "outputs": [
    {
     "data": {
      "text/plain": [
       "Index(['city', 'year', 'vehicle', 'BC_TOTAL', 'BC_TOTAL_ff', 'CH4_TOTAL',\n",
       "       'CH4_TOTAL_ff', 'CO_TOTAL', 'CO_TOTAL_ff', 'N2O_TOTAL', 'N2O_TOTAL_ff',\n",
       "       'NH3_TOTAL', 'NH3_TOTAL_ff', 'NOX_TOTAL', 'NOX_TOTAL_ff', 'PB_TOTAL',\n",
       "       'PB_TOTAL_ff', 'PM_10_TOTAL', 'PM_10_TOTAL_ff', 'PM_2.5_TOTAL',\n",
       "       'PM_2.5_TOTAL_ff', 'VOC_TOTAL', 'VOC_TOTAL_ff', 'co2', 'co2_ff',\n",
       "       'mean_speed', 'vkt', 'weighted_speed', 'consumption', 'population_2020',\n",
       "       'urban_area_km2', 'gdp_billions', 'co2_congestion', 'lat', 'lon',\n",
       "       'co2_pc', 'co2_per_gdp', 'gdp_per_fuel', 'fuel_per_km',\n",
       "       'vkt_per_capita', 'co2_per_fuel', 'fuel_per_capita', 'urban_density',\n",
       "       'sqrt_urban_area'],\n",
       "      dtype='object')"
      ]
     },
     "execution_count": 5,
     "metadata": {},
     "output_type": "execute_result"
    }
   ],
   "source": [
    "df.columns"
   ]
  },
  {
   "cell_type": "code",
   "execution_count": null,
   "metadata": {},
   "outputs": [],
   "source": []
  },
  {
   "cell_type": "code",
   "execution_count": 58,
   "metadata": {},
   "outputs": [
    {
     "data": {
      "text/html": [
       "<div>\n",
       "<style scoped>\n",
       "    .dataframe tbody tr th:only-of-type {\n",
       "        vertical-align: middle;\n",
       "    }\n",
       "\n",
       "    .dataframe tbody tr th {\n",
       "        vertical-align: top;\n",
       "    }\n",
       "\n",
       "    .dataframe thead th {\n",
       "        text-align: right;\n",
       "    }\n",
       "</style>\n",
       "<table border=\"1\" class=\"dataframe\">\n",
       "  <thead>\n",
       "    <tr style=\"text-align: right;\">\n",
       "      <th></th>\n",
       "      <th>city</th>\n",
       "      <th>year</th>\n",
       "      <th>vehicle</th>\n",
       "      <th>BC_TOTAL</th>\n",
       "      <th>BC_TOTAL_ff</th>\n",
       "      <th>CH4_TOTAL</th>\n",
       "      <th>CH4_TOTAL_ff</th>\n",
       "      <th>CO_TOTAL</th>\n",
       "      <th>CO_TOTAL_ff</th>\n",
       "      <th>N2O_TOTAL</th>\n",
       "      <th>...</th>\n",
       "      <th>vkt</th>\n",
       "      <th>weighted_speed</th>\n",
       "      <th>consumption</th>\n",
       "      <th>population_2020</th>\n",
       "      <th>urban_area_km2</th>\n",
       "      <th>gdp_billions</th>\n",
       "      <th>co2_congestion</th>\n",
       "      <th>lat</th>\n",
       "      <th>lon</th>\n",
       "      <th>co2_pc</th>\n",
       "    </tr>\n",
       "  </thead>\n",
       "  <tbody>\n",
       "    <tr>\n",
       "      <th>0</th>\n",
       "      <td>agartala</td>\n",
       "      <td>2021</td>\n",
       "      <td>car</td>\n",
       "      <td>0.228729</td>\n",
       "      <td>0.226934</td>\n",
       "      <td>0.422926</td>\n",
       "      <td>0.416181</td>\n",
       "      <td>25.299742</td>\n",
       "      <td>24.055764</td>\n",
       "      <td>0.164151</td>\n",
       "      <td>...</td>\n",
       "      <td>2.474548e+07</td>\n",
       "      <td>15.899791</td>\n",
       "      <td>8954.665225</td>\n",
       "      <td>649084</td>\n",
       "      <td>97.492401</td>\n",
       "      <td>4.810943</td>\n",
       "      <td>1047.483581</td>\n",
       "      <td>23.8315</td>\n",
       "      <td>91.2868</td>\n",
       "      <td>0.038009</td>\n",
       "    </tr>\n",
       "    <tr>\n",
       "      <th>1</th>\n",
       "      <td>agartala</td>\n",
       "      <td>2021</td>\n",
       "      <td>truck</td>\n",
       "      <td>4.325746</td>\n",
       "      <td>4.164374</td>\n",
       "      <td>1.180341</td>\n",
       "      <td>1.180341</td>\n",
       "      <td>106.524745</td>\n",
       "      <td>101.664774</td>\n",
       "      <td>1.490019</td>\n",
       "      <td>...</td>\n",
       "      <td>2.500199e+07</td>\n",
       "      <td>14.754658</td>\n",
       "      <td>7801.872088</td>\n",
       "      <td>649084</td>\n",
       "      <td>97.492401</td>\n",
       "      <td>4.810943</td>\n",
       "      <td>4097.328673</td>\n",
       "      <td>23.8315</td>\n",
       "      <td>91.2868</td>\n",
       "      <td>0.111787</td>\n",
       "    </tr>\n",
       "    <tr>\n",
       "      <th>2</th>\n",
       "      <td>agartala</td>\n",
       "      <td>2022</td>\n",
       "      <td>car</td>\n",
       "      <td>0.297147</td>\n",
       "      <td>0.291878</td>\n",
       "      <td>0.540510</td>\n",
       "      <td>0.521074</td>\n",
       "      <td>30.207252</td>\n",
       "      <td>27.174138</td>\n",
       "      <td>0.214356</td>\n",
       "      <td>...</td>\n",
       "      <td>2.860712e+07</td>\n",
       "      <td>19.894672</td>\n",
       "      <td>9784.904713</td>\n",
       "      <td>649084</td>\n",
       "      <td>97.492401</td>\n",
       "      <td>4.810943</td>\n",
       "      <td>2633.218382</td>\n",
       "      <td>23.8315</td>\n",
       "      <td>91.2868</td>\n",
       "      <td>0.045943</td>\n",
       "    </tr>\n",
       "    <tr>\n",
       "      <th>3</th>\n",
       "      <td>agartala</td>\n",
       "      <td>2022</td>\n",
       "      <td>truck</td>\n",
       "      <td>5.181564</td>\n",
       "      <td>4.929001</td>\n",
       "      <td>1.419055</td>\n",
       "      <td>1.419055</td>\n",
       "      <td>127.489350</td>\n",
       "      <td>119.883049</td>\n",
       "      <td>1.791362</td>\n",
       "      <td>...</td>\n",
       "      <td>2.832155e+07</td>\n",
       "      <td>14.950582</td>\n",
       "      <td>8962.574714</td>\n",
       "      <td>649084</td>\n",
       "      <td>97.492401</td>\n",
       "      <td>4.810943</td>\n",
       "      <td>6417.278980</td>\n",
       "      <td>23.8315</td>\n",
       "      <td>91.2868</td>\n",
       "      <td>0.133294</td>\n",
       "    </tr>\n",
       "    <tr>\n",
       "      <th>4</th>\n",
       "      <td>agartala</td>\n",
       "      <td>2023</td>\n",
       "      <td>car</td>\n",
       "      <td>0.357276</td>\n",
       "      <td>0.351423</td>\n",
       "      <td>0.634877</td>\n",
       "      <td>0.614289</td>\n",
       "      <td>33.052337</td>\n",
       "      <td>31.372716</td>\n",
       "      <td>0.259808</td>\n",
       "      <td>...</td>\n",
       "      <td>2.990476e+07</td>\n",
       "      <td>25.498552</td>\n",
       "      <td>10373.307300</td>\n",
       "      <td>649084</td>\n",
       "      <td>97.492401</td>\n",
       "      <td>4.810943</td>\n",
       "      <td>1931.272633</td>\n",
       "      <td>23.8315</td>\n",
       "      <td>91.2868</td>\n",
       "      <td>0.050748</td>\n",
       "    </tr>\n",
       "    <tr>\n",
       "      <th>5</th>\n",
       "      <td>agartala</td>\n",
       "      <td>2023</td>\n",
       "      <td>truck</td>\n",
       "      <td>5.415869</td>\n",
       "      <td>5.250221</td>\n",
       "      <td>1.493656</td>\n",
       "      <td>1.493656</td>\n",
       "      <td>133.031573</td>\n",
       "      <td>128.044975</td>\n",
       "      <td>1.885536</td>\n",
       "      <td>...</td>\n",
       "      <td>2.328627e+07</td>\n",
       "      <td>15.227574</td>\n",
       "      <td>9016.355182</td>\n",
       "      <td>649084</td>\n",
       "      <td>97.492401</td>\n",
       "      <td>4.810943</td>\n",
       "      <td>4098.999306</td>\n",
       "      <td>23.8315</td>\n",
       "      <td>91.2868</td>\n",
       "      <td>0.138277</td>\n",
       "    </tr>\n",
       "  </tbody>\n",
       "</table>\n",
       "<p>6 rows × 36 columns</p>\n",
       "</div>"
      ],
      "text/plain": [
       "       city  year vehicle  BC_TOTAL  BC_TOTAL_ff  CH4_TOTAL  CH4_TOTAL_ff  \\\n",
       "0  agartala  2021     car  0.228729     0.226934   0.422926      0.416181   \n",
       "1  agartala  2021   truck  4.325746     4.164374   1.180341      1.180341   \n",
       "2  agartala  2022     car  0.297147     0.291878   0.540510      0.521074   \n",
       "3  agartala  2022   truck  5.181564     4.929001   1.419055      1.419055   \n",
       "4  agartala  2023     car  0.357276     0.351423   0.634877      0.614289   \n",
       "5  agartala  2023   truck  5.415869     5.250221   1.493656      1.493656   \n",
       "\n",
       "     CO_TOTAL  CO_TOTAL_ff  N2O_TOTAL  ...           vkt  weighted_speed  \\\n",
       "0   25.299742    24.055764   0.164151  ...  2.474548e+07       15.899791   \n",
       "1  106.524745   101.664774   1.490019  ...  2.500199e+07       14.754658   \n",
       "2   30.207252    27.174138   0.214356  ...  2.860712e+07       19.894672   \n",
       "3  127.489350   119.883049   1.791362  ...  2.832155e+07       14.950582   \n",
       "4   33.052337    31.372716   0.259808  ...  2.990476e+07       25.498552   \n",
       "5  133.031573   128.044975   1.885536  ...  2.328627e+07       15.227574   \n",
       "\n",
       "    consumption  population_2020  urban_area_km2  gdp_billions  \\\n",
       "0   8954.665225           649084       97.492401      4.810943   \n",
       "1   7801.872088           649084       97.492401      4.810943   \n",
       "2   9784.904713           649084       97.492401      4.810943   \n",
       "3   8962.574714           649084       97.492401      4.810943   \n",
       "4  10373.307300           649084       97.492401      4.810943   \n",
       "5   9016.355182           649084       97.492401      4.810943   \n",
       "\n",
       "   co2_congestion      lat      lon    co2_pc  \n",
       "0     1047.483581  23.8315  91.2868  0.038009  \n",
       "1     4097.328673  23.8315  91.2868  0.111787  \n",
       "2     2633.218382  23.8315  91.2868  0.045943  \n",
       "3     6417.278980  23.8315  91.2868  0.133294  \n",
       "4     1931.272633  23.8315  91.2868  0.050748  \n",
       "5     4098.999306  23.8315  91.2868  0.138277  \n",
       "\n",
       "[6 rows x 36 columns]"
      ]
     },
     "execution_count": 58,
     "metadata": {},
     "output_type": "execute_result"
    }
   ],
   "source": [
    "df_city"
   ]
  },
  {
   "cell_type": "code",
   "execution_count": null,
   "metadata": {},
   "outputs": [],
   "source": [
    "# plot weighted speed vs co2_pc\n",
    "import matplotlib.pyplot as plt\n",
    "import seaborn as sns\n",
    "plt.figure(figsize=(10, 6))\n",
    "sns.scatterplot(data=df_city, x='weighted_speed', y='co2_pc', hue='vehicle', alpha=0.7)\n",
    "plt.title('Weighted Speed vs CO2 per Capita')\n",
    "plt.xlabel('Weighted Speed (km/h)')\n",
    "plt.ylabel('CO2 per Capita (kg)')\n",
    "plt.legend(title='Vehicle Type')\n",
    "plt.show()"
   ]
  },
  {
   "cell_type": "code",
   "execution_count": null,
   "metadata": {},
   "outputs": [],
   "source": [
    "\n",
    "choices  = ['kohima', 'panaji', 'itanagar', 'gangtok', 'shilong', 'nalgonda', 'shimla', 'imphal', 'rourkela', 'siliguri',\n",
    "  'durgapur', 'dewas', 'aizawl', 'haldia', 'sagar', 'jabalpur', 'thoothukkudi', 'shivamogga', 'kurnool', \n",
    "  'jalpaiguri', 'korba', 'alwar', 'silchar', 'udaipur', 'erode', 'muzaffarpur', 'ujjain', 'kolhapur', \n",
    "  'agartala', 'sangli-miraj-kupwad', 'gaya', 'nellore', 'jalgaon', 'bhilainagar', 'jhansi', 'mangaluru', \n",
    "  'patiala', 'amravati', 'dehradun', 'guntur', 'firozabad', 'tiruppur', 'chandigarh', 'cuttack', 'warangal', \n",
    "  'mysuru', 'jammu', 'srinagar', 'bhubaneswar', 'vijaywada', 'aligarh', 'jodhpur', 'hubli dharwad', 'kochi', \n",
    "  'solapur', 'tiruchirappalli', 'gurgaon', 'jalandhar', 'guwahati', 'amritsar', 'raipur', 'bareilly', 'kota', \n",
    "  'noida', 'rajkot', 'moradabad', 'aurangabad', 'ranchi', 'gwalior', 'jamshedpur', 'coimbatore', 'meerut', \n",
    "  'dhanbad', 'allahabad', 'madurai', 'nashik', 'ludhiana', 'faridabad', 'vadodara', 'varanashi', 'agra', \n",
    "  'thiruvananthapuram', 'vishakhapatnam', 'patna', 'ghaziabad', 'bhopal', 'nagpur', 'indore', 'kanpur', \n",
    "  'jaipur', 'lucknow', 'pune', 'surat', 'kolkata', 'hyderabad', 'chennai', 'ahmedabad', 'bengaluru', 'mumbai', 'delhi']\n",
    "\n",
    "import pandas as pd\n",
    "import numpy as np\n",
    "import os\n",
    "import pickle\n",
    "from sklearn.model_selection import train_test_split\n",
    "from sklearn.metrics import r2_score, mean_squared_error, mean_absolute_error\n",
    "import subprocess\n",
    "import dask.dataframe as dd\n",
    "import glob\n",
    "import geopandas as gpd\n",
    "import joblib\n",
    "from tqdm import tqdm\n",
    "from joblib import Parallel, delayed\n",
    "from argparse import ArgumentDefaultsHelpFormatter, ArgumentParser\n",
    "\n",
    "def parse_args():\n",
    "\tparser = ArgumentParser(formatter_class=ArgumentDefaultsHelpFormatter,\n",
    "\t                        conflict_handler='resolve')\n",
    "\tparser.add_argument('--city', default='kanpur', choices=choices, help='city')\n",
    "\tparser.add_argument('--year', default='2021', choices=['2020','2021','2022','2023','2024'], help='Choose year')\n",
    "\targs = parser.parse_args()\n",
    "\treturn args\n",
    "\n",
    "def main(args):\n",
    "    city = args.city\n",
    "    year = args.year\n",
    "\n",
    "    check_path = f'data/data_stats/{city}/{year}/stats.csv'\n",
    "    # Check if metrics.csv already exists\n",
    "    if os.path.exists(check_path):\n",
    "        print(f\"stats for {city}, {year} already exist. Skipping this combination.\")\n",
    "        return\n",
    "\n",
    "    # map df\n",
    "    fp = f\"data/data_clip/{city}/clip/streets.shp\"\n",
    "    map_df = gpd.read_file(fp)\n",
    "    map_df.LINK_ID = map_df.LINK_ID.astype(str)\n",
    "    map_df = map_df.to_crs(epsg=3857)\n",
    "    map_df['length'] = map_df['geometry'].length / 1000 # in km\n",
    "    dicc = dict(zip(map_df['LINK_ID'],map_df['length']))\n",
    "\n",
    "    # get list of dc_files\n",
    "    root = f'data/data_emission/{city}/{year}'\n",
    "    df = dd.read_parquet(root, engine='pyarrow')\n",
    "\n",
    "    cols = ['co2_car',\n",
    "       'co2_truck', 'NOX_TOTAL_car', 'NOX_TOTAL_truck', 'PM_2.5_TOTAL_car',\n",
    "       'PM_2.5_TOTAL_truck', 'PM_10_TOTAL_car', 'PM_10_TOTAL_truck',\n",
    "       'CO_TOTAL_car', 'CO_TOTAL_truck', 'VOC_TOTAL_car', 'VOC_TOTAL_truck',\n",
    "       'CH4_TOTAL_car', 'CH4_TOTAL_truck', 'N2O_TOTAL_car', 'N2O_TOTAL_truck',\n",
    "       'NH3_TOTAL_car', 'NH3_TOTAL_truck', 'PB_TOTAL_car', 'PB_TOTAL_truck',\n",
    "       'BC_TOTAL_car', 'BC_TOTAL_truck', 'co2_car_ff', 'co2_truck_ff',\n",
    "       'NOX_TOTAL_car_ff', 'NOX_TOTAL_truck_ff', 'PM_2.5_TOTAL_car_ff',\n",
    "       'PM_2.5_TOTAL_truck_ff', 'PM_10_TOTAL_car_ff', 'PM_10_TOTAL_truck_ff',\n",
    "       'CO_TOTAL_car_ff', 'CO_TOTAL_truck_ff', 'VOC_TOTAL_car_ff',\n",
    "       'VOC_TOTAL_truck_ff', 'CH4_TOTAL_car_ff', 'CH4_TOTAL_truck_ff',\n",
    "       'N2O_TOTAL_car_ff', 'N2O_TOTAL_truck_ff', 'NH3_TOTAL_car_ff',\n",
    "       'NH3_TOTAL_truck_ff', 'PB_TOTAL_car_ff', 'PB_TOTAL_truck_ff',\n",
    "       'BC_TOTAL_car_ff', 'BC_TOTAL_truck_ff']\n",
    "    \n",
    "    # daily emissions\n",
    "    df = df.groupby\n",
    "    \n",
    "\n",
    "    df_emissions = pd.DataFrame(df_emissions).reset_index() # in tons\n",
    "    df_emissions.columns = ['variable','value']\n",
    "    \n",
    "    df_vkt = df[['LINK_ID','COUNT_car','COUNT_truck']].groupby('LINK_ID')['COUNT_car','COUNT_truck'].sum().reset_index().compute()\n",
    "    df_vkt['link_len'] = df_vkt.LINK_ID.map(dicc)\n",
    "    df_vkt.link_len = df_vkt.link_len.astype(float)\n",
    "    df_vkt.COUNT_car = df_vkt.COUNT_car * df_vkt.link_len\n",
    "    df_vkt.COUNT_truck = df_vkt.COUNT_truck * df_vkt.link_len\n",
    "    # rename columns to vkt\n",
    "    df_vkt = df_vkt.rename(columns={'COUNT_car':'vkt_car','COUNT_truck':'vkt_truck'})\n",
    "    df_vkt = df_vkt[['vkt_car','vkt_truck']].sum()\n",
    "    df_vkt = pd.DataFrame(df_vkt).reset_index()\n",
    "    df_vkt.columns = ['variable','value']\n",
    "    dff = pd.concat([df_emissions,df_vkt])\n",
    "\n",
    "    # Weighted mean speed (using COUNT as weight)\n",
    "    weighted_speed_car = (df[\"MEAN_car\"] * df[\"COUNT_car\"]).sum() / df[\"COUNT_car\"].sum()\n",
    "    weighted_speed_truck = (df[\"MEAN_truck\"] * df[\"COUNT_truck\"]).sum() / df[\"COUNT_truck\"].sum()\n",
    "    # add weighted mean speed to the dataframe DFF\n",
    "    dff = dff.append({'variable': 'weighted_speed_car', 'value': weighted_speed_car.compute()}, ignore_index=True)\n",
    "    dff = dff.append({'variable': 'weighted_speed_truck', 'value': weighted_speed_truck.compute()}, ignore_index=True)\n",
    "    # add  mean speed to the dataframe DFF\n",
    "    dff = dff.append({'variable': 'mean_speed_car', 'value': df[\"MEAN_car\"].mean().compute()}, ignore_index=True)\n",
    "    dff = dff.append({'variable': 'mean_speed_truck', 'value': df[\"MEAN_truck\"].mean().compute()}, ignore_index=True)\n",
    "    \n",
    "    p = f'data/data_stats/{city}/{year}'\n",
    "    os.makedirs(p, exist_ok=True)\n",
    "    dff.to_csv(f'{p}/stats.csv', index=False)\n",
    "    \n",
    "def more_main():\n",
    "\targs = parse_args()\n",
    "\tmain(args)\n",
    "\n",
    "if __name__ == \"__main__\":\n",
    "\tmore_main()"
   ]
  },
  {
   "cell_type": "code",
   "execution_count": null,
   "metadata": {},
   "outputs": [],
   "source": []
  },
  {
   "cell_type": "code",
   "execution_count": null,
   "metadata": {},
   "outputs": [],
   "source": []
  },
  {
   "cell_type": "code",
   "execution_count": null,
   "metadata": {},
   "outputs": [],
   "source": []
  },
  {
   "cell_type": "code",
   "execution_count": null,
   "metadata": {},
   "outputs": [],
   "source": []
  },
  {
   "cell_type": "code",
   "execution_count": null,
   "metadata": {},
   "outputs": [],
   "source": []
  },
  {
   "cell_type": "code",
   "execution_count": null,
   "metadata": {},
   "outputs": [],
   "source": []
  },
  {
   "cell_type": "code",
   "execution_count": null,
   "metadata": {},
   "outputs": [],
   "source": []
  },
  {
   "cell_type": "code",
   "execution_count": null,
   "metadata": {},
   "outputs": [],
   "source": []
  },
  {
   "cell_type": "code",
   "execution_count": null,
   "metadata": {},
   "outputs": [],
   "source": [
    "shapefile = 'data/state/STATE_BOUNDARY.shp'\n",
    "shapefile = gpd.read_file(shapefile)\n",
    "shapefile = shapefile[~shapefile['STATE'].isin(['ANDAMAN & NICOBAR', 'LAKSHADWEEP','DISPUTED (MADHYA PRADESH & GUJAR>T)',\n",
    "                                            'DISPUTED (MADHYA PRADESH & R>JASTH>N)', 'DISPUTED (R>JATH>N & GUJAR>T)',\n",
    "                                                  'DISPUTED (WEST BENGAL , BIH>R & JH>RKHAND)'  ])]\n",
    "fix = ['ANDHRA PRADESH', 'ARUN>CHAL PRADESH', 'ASSAM', 'BIH>R',\n",
    "       'CHAND|GARH', 'CHHAtT|SGARH', 'D>DRA & NAGAR HAVELI & DAM>N & DIU',\n",
    "       'DELHI', 'GOA', 'GUJAR>T', 'HARY>NA', 'HIM>CHAL PRADESH',\n",
    "       'JAMMU AND KASHM|R', 'JH>RKHAND', 'KARN>TAKA', 'KERALA', 'LAD>KH',\n",
    "       'MADHYA PRADESH', 'MAH>R>SHTRA', 'MANIPUR', 'MEGH>LAYA', 'MIZORAM',\n",
    "       'N>G>LAND', 'ODISHA', 'PUDUCHERRY', 'PUNJAB', 'R>JASTH>N',\n",
    "       'SIKKIM', 'TAMIL N>DU', 'TELANG>NA', 'TRIPURA', 'UTTAR>KHAND',\n",
    "       'UTTAR PRADESH', 'WEST BENGAL']\n",
    "\n",
    "fixed = ['ANDHRA PRADESH', 'ARUNACHAL PRADESH', 'ASSAM', 'BIHAR',\n",
    "       'CHANDIGARH', 'CHHATTISGARH', 'DADRA & NAGAR HAVELI & DAMAN & DIU',\n",
    "       'DELHI', 'GOA', 'GUJARAT', 'HARYANA', 'HIMACHAL PRADESH',\n",
    "       'JAMMU AND KASHMIR', 'JHARKHAND', 'KARNATAKA', 'KERALA', 'LADAKH',\n",
    "       'MADHYA PRADESH', 'MAHARASHTRA', 'MANIPUR', 'MEGHALAYA', 'MIZORAM',\n",
    "       'NAGALAND', 'ODISHA', 'PUDUCHERRY', 'PUNJAB', 'RAJASTHAN',\n",
    "       'SIKKIM', 'TAMIL NADU', 'TELANGANA', 'TRIPURA', 'UTTARAKHAND',\n",
    "       'UTTAR PRADESH', 'WEST BENGAL']\n",
    "\n",
    "shapefile['STATE'] = shapefile['STATE'].replace(fix, fixed)\n",
    "shapefile = shapefile.to_crs(epsg=4326)\n",
    "shapefile = shapefile[['STATE', 'geometry']]\n",
    "# Export to GeoJSON\n",
    "shapefile.to_file(\"data/state.geojson\", driver=\"GeoJSON\")"
   ]
  }
 ],
 "metadata": {
  "kernelspec": {
   "display_name": "truskawka",
   "language": "python",
   "name": "python3"
  },
  "language_info": {
   "codemirror_mode": {
    "name": "ipython",
    "version": 3
   },
   "file_extension": ".py",
   "mimetype": "text/x-python",
   "name": "python",
   "nbconvert_exporter": "python",
   "pygments_lexer": "ipython3",
   "version": "3.10.18"
  },
  "orig_nbformat": 4
 },
 "nbformat": 4,
 "nbformat_minor": 2
}
