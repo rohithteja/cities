{
 "cells": [
  {
   "cell_type": "code",
   "execution_count": null,
   "metadata": {},
   "outputs": [
    {
     "name": "stdout",
     "output_type": "stream",
     "text": [
      "\u001b[0m\n",
      "\u001b[34m\u001b[1m  You can now view your Streamlit app in your browser.\u001b[0m\n",
      "\u001b[0m\n",
      "\u001b[34m  Local URL: \u001b[0m\u001b[1mhttp://localhost:8501\u001b[0m\n",
      "\u001b[34m  Network URL: \u001b[0m\u001b[1mhttp://10.10.8.5:8501\u001b[0m\n",
      "\u001b[0m\n",
      "\u001b[34m\u001b[1m  For better performance, install the Watchdog module:\u001b[0m\n",
      "\n",
      "  $ xcode-select --install\n",
      "  $ pip install watchdog\n",
      "            \u001b[0m\n",
      "2025-07-17 22:01:26.221 Uncaught app execution\n",
      "Traceback (most recent call last):\n",
      "  File \"/Users/rmitta/opt/anaconda3/envs/truskawka/lib/python3.10/site-packages/streamlit/runtime/scriptrunner/exec_code.py\", line 128, in exec_func_with_error_handling\n",
      "    result = func()\n",
      "  File \"/Users/rmitta/opt/anaconda3/envs/truskawka/lib/python3.10/site-packages/streamlit/runtime/scriptrunner/script_runner.py\", line 667, in code_to_exec\n",
      "    _mpa_v1(self._main_script_path)\n",
      "  File \"/Users/rmitta/opt/anaconda3/envs/truskawka/lib/python3.10/site-packages/streamlit/runtime/scriptrunner/script_runner.py\", line 165, in _mpa_v1\n",
      "    page.run()\n",
      "  File \"/Users/rmitta/opt/anaconda3/envs/truskawka/lib/python3.10/site-packages/streamlit/navigation/page.py\", line 296, in run\n",
      "    code = ctx.pages_manager.get_page_script_byte_code(str(self._page))\n",
      "  File \"/Users/rmitta/opt/anaconda3/envs/truskawka/lib/python3.10/site-packages/streamlit/runtime/pages_manager.py\", line 160, in get_page_script_byte_code\n",
      "    return self._script_cache.get_bytecode(script_path)\n",
      "  File \"/Users/rmitta/opt/anaconda3/envs/truskawka/lib/python3.10/site-packages/streamlit/runtime/scriptrunner/script_cache.py\", line 72, in get_bytecode\n",
      "    filebody = magic.add_magic(filebody, script_path)\n",
      "  File \"/Users/rmitta/opt/anaconda3/envs/truskawka/lib/python3.10/site-packages/streamlit/runtime/scriptrunner/magic.py\", line 45, in add_magic\n",
      "    tree = ast.parse(code, script_path, \"exec\")\n",
      "  File \"/Users/rmitta/opt/anaconda3/envs/truskawka/lib/python3.10/ast.py\", line 50, in parse\n",
      "    return compile(source, filename, mode, flags,\n",
      "  File \"/Users/rmitta/Documents/GitHub/cities/pages/6 Kaya identity.py\", line 54\n",
      "    st.markdown(\"\"\"**Term Explanations:**\n",
      "                ^\n",
      "SyntaxError: unterminated triple-quoted string literal (detected at line 54)\n"
     ]
    }
   ],
   "source": [
    "!streamlit run Data_Overview.py"
   ]
  },
  {
   "cell_type": "code",
   "execution_count": 7,
   "metadata": {},
   "outputs": [],
   "source": [
    "p = 'data/variability/bhopal/2021/car_F_COUNT_variability.png'"
   ]
  },
  {
   "cell_type": "code",
   "execution_count": 8,
   "metadata": {},
   "outputs": [
    {
     "name": "stdout",
     "output_type": "stream",
     "text": [
      "File exists\n"
     ]
    }
   ],
   "source": [
    "# chceck if p has a file\n",
    "import os\n",
    "if os.path.isfile(p):\n",
    "       print('File exists')"
   ]
  },
  {
   "cell_type": "code",
   "execution_count": 4,
   "metadata": {},
   "outputs": [
    {
     "name": "stdout",
     "output_type": "stream",
     "text": [
      "mumbai\n",
      "bengaluru\n",
      "ahmedabad\n",
      "chennai\n",
      "bhopal\n",
      "ghaziabad\n",
      "patna\n",
      "vishakhapatnam\n",
      "thiruvananthapuram\n",
      "agra\n",
      "varanashi\n",
      "vadodara\n",
      "faridabad\n",
      "ludhiana\n",
      "nashik\n",
      "madurai\n",
      "allahabad\n",
      "dhanbad\n",
      "meerut\n",
      "coimbatore\n",
      "jamshedpur\n",
      "gwalior\n",
      "ranchi\n",
      "aurangabad\n",
      "moradabad\n",
      "srinagar\n",
      "rajkot\n",
      "noida\n",
      "kota\n",
      "bareilly\n",
      "raipur\n",
      "amritsar\n",
      "guwahati\n",
      "jalandhar\n",
      "gurgaon\n",
      "tiruchirappalli\n",
      "solapur\n",
      "hubli dharwad\n",
      "jodhpur\n",
      "aligarh\n",
      "vijaywada\n",
      "bhubaneswar\n",
      "jammu\n",
      "mysuru\n",
      "warangal\n",
      "kochi\n",
      "cuttack\n",
      "chandigarh\n",
      "tiruppur\n",
      "firozabad\n",
      "guntur\n",
      "dehradun\n",
      "amravati\n",
      "patiala\n",
      "mangaluru\n",
      "jhansi\n",
      "bhilainagar\n",
      "jalgaon\n",
      "nellore\n",
      "gaya\n",
      "sangli-miraj-kupwad\n",
      "agartala\n",
      "kolhapur\n",
      "ujjain\n",
      "muzaffarpur\n",
      "erode\n",
      "udaipur\n",
      "silchar\n",
      "alwar\n",
      "korba\n",
      "jalpaiguri\n",
      "kurnool\n",
      "shivamogga\n",
      "thoothukkudi\n",
      "sagar\n",
      "haldia\n",
      "aizawl\n",
      "dewas\n",
      "durgapur\n",
      "siliguri\n",
      "rourkela\n",
      "imphal\n",
      "shimla\n",
      "nalgonda\n",
      "shilong\n",
      "gangtok\n",
      "panaji\n",
      "kohima\n",
      "itanagar\n"
     ]
    }
   ],
   "source": [
    "cities = [\n",
    "       'mumbai',\n",
    "       'bengaluru', 'ahmedabad', 'chennai', 'bhopal',\n",
    "       'ghaziabad', 'patna', 'vishakhapatnam', 'thiruvananthapuram',\n",
    "       'agra', 'varanashi', 'vadodara', 'faridabad', 'ludhiana', 'nashik',\n",
    "       'madurai', 'allahabad', 'dhanbad', 'meerut', 'coimbatore',\n",
    "       'jamshedpur', 'gwalior', 'ranchi', 'aurangabad', 'moradabad',\n",
    "       'srinagar', 'rajkot', 'noida', 'kota', 'bareilly', 'raipur',\n",
    "       'amritsar', 'guwahati', 'jalandhar', 'gurgaon', 'tiruchirappalli',\n",
    "       'solapur', 'hubli dharwad', 'jodhpur', 'aligarh', 'vijaywada',\n",
    "       'bhubaneswar', 'jammu', 'mysuru', 'warangal', 'kochi', 'cuttack',\n",
    "       'chandigarh', 'tiruppur', 'firozabad', 'guntur', 'dehradun',\n",
    "       'amravati', 'patiala', 'mangaluru', 'jhansi', 'bhilainagar',\n",
    "       'jalgaon', 'nellore', 'gaya', 'sangli-miraj-kupwad', 'agartala',\n",
    "       'kolhapur', 'ujjain', 'muzaffarpur', 'erode', 'udaipur', 'silchar',\n",
    "       'alwar', 'korba', 'jalpaiguri', 'kurnool', 'shivamogga',\n",
    "       'thoothukkudi', 'sagar', 'haldia', 'aizawl', 'dewas', 'durgapur',\n",
    "       'siliguri', 'rourkela', 'imphal', 'shimla', 'nalgonda', 'shilong',\n",
    "       'gangtok', 'panaji', 'kohima', 'itanagar'\n",
    "]\n",
    "\n",
    "for city in cities:\n",
    "       print(city)"
   ]
  }
 ],
 "metadata": {
  "kernelspec": {
   "display_name": "truskawka",
   "language": "python",
   "name": "python3"
  },
  "language_info": {
   "codemirror_mode": {
    "name": "ipython",
    "version": 3
   },
   "file_extension": ".py",
   "mimetype": "text/x-python",
   "name": "python",
   "nbconvert_exporter": "python",
   "pygments_lexer": "ipython3",
   "version": "3.10.18"
  },
  "orig_nbformat": 4
 },
 "nbformat": 4,
 "nbformat_minor": 2
}
