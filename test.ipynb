{
 "cells": [
  {
   "cell_type": "code",
   "execution_count": 3,
   "metadata": {},
   "outputs": [
    {
     "name": "stdout",
     "output_type": "stream",
     "text": [
      "2024-05-07 14:59:02.558 INFO    numexpr.utils: Note: NumExpr detected 10 cores but \"NUMEXPR_MAX_THREADS\" not set, so enforcing safe limit of 8.\n",
      "2024-05-07 14:59:02.558 INFO    numexpr.utils: NumExpr defaulting to 8 threads.\n",
      "\u001b[0m\n",
      "\u001b[34m\u001b[1m  You can now view your Streamlit app in your browser.\u001b[0m\n",
      "\u001b[0m\n",
      "\u001b[34m  Local URL: \u001b[0m\u001b[1mhttp://localhost:8501\u001b[0m\n",
      "\u001b[34m  Network URL: \u001b[0m\u001b[1mhttp://157.136.73.104:8501\u001b[0m\n",
      "\u001b[0m\n",
      "2024-05-07 15:06:02.365 Uncaught app exception\n",
      "Traceback (most recent call last):\n",
      "  File \"/Users/rmitta/opt/anaconda3/envs/zerotwo/lib/python3.10/site-packages/streamlit/runtime/scriptrunner/script_runner.py\", line 556, in _run_script\n",
      "    exec(code, module.__dict__)\n",
      "  File \"/Users/rmitta/Desktop/work/3. Indian Traffic/streamlit/cities/Data_Overview.py\", line 41, in <module>\n",
      "    st.image(f'data/{city.lower()}/speedmap.png')\n",
      "  File \"/Users/rmitta/opt/anaconda3/envs/zerotwo/lib/python3.10/site-packages/streamlit/elements/image.py\", line 138, in image\n",
      "    marshall_images(\n",
      "  File \"/Users/rmitta/opt/anaconda3/envs/zerotwo/lib/python3.10/site-packages/streamlit/elements/image.py\", line 423, in marshall_images\n",
      "    proto_img.url = image_to_url(\n",
      "  File \"/Users/rmitta/opt/anaconda3/envs/zerotwo/lib/python3.10/site-packages/streamlit/elements/image.py\", line 339, in image_to_url\n",
      "    with open(image, \"rb\") as f:\n",
      "FileNotFoundError: [Errno 2] No such file or directory: 'data/chandigarh/speedmap.png'\n"
     ]
    }
   ],
   "source": [
    "!streamlit run Data_Overview.py"
   ]
  },
  {
   "cell_type": "code",
   "execution_count": 11,
   "metadata": {},
   "outputs": [],
   "source": [
    "import geopandas as gpd\n",
    "import numpy as np\n",
    "import pandas as pd\n",
    "import xarray as xr\n",
    "import shapely\n",
    "import pickle\n",
    "import pandas as pd\n",
    "import numpy as np\n",
    "import pickle\n",
    "import tqdm\n",
    "import pandas as pd\n",
    "import string\n",
    "import numpy as np\n",
    "import geopandas as gpd\n",
    "import pickle\n",
    "import datetime\n",
    "import pwlf\n",
    "import scipy\n",
    "import sklearn"
   ]
  },
  {
   "cell_type": "code",
   "execution_count": 16,
   "metadata": {},
   "outputs": [],
   "source": [
    "\n",
    "# Dictionary to store imported libraries and their versions\n",
    "imported_libraries = {\n",
    "    'geopandas': gpd.__version__,\n",
    "    'numpy': np.__version__,\n",
    "    'pandas': pd.__version__,\n",
    "    'xarray': xr.__version__,\n",
    "    'shapely': shapely.__version__,\n",
    "    'tqdm': tqdm.__version__,\n",
    "    'pwlf': pwlf.__version__,\n",
    "    'scipy': scipy.__version__,\n",
    "    'sklearn': sklearn.__version__  \n",
    "}\n",
    "\n",
    "# Write the imported libraries and versions to requirements.txt\n",
    "with open('requirements.txt', 'w') as f:\n",
    "    for library, version in imported_libraries.items():\n",
    "        f.write(f\"{library}=={version}\\n\")\n"
   ]
  }
 ],
 "metadata": {
  "kernelspec": {
   "display_name": "Python 3.10.6 ('zerotwo')",
   "language": "python",
   "name": "python3"
  },
  "language_info": {
   "codemirror_mode": {
    "name": "ipython",
    "version": 3
   },
   "file_extension": ".py",
   "mimetype": "text/x-python",
   "name": "python",
   "nbconvert_exporter": "python",
   "pygments_lexer": "ipython3",
   "version": "3.10.6"
  },
  "orig_nbformat": 4,
  "vscode": {
   "interpreter": {
    "hash": "9bfb04bc2ddf749979761a4feac0c518cf5ca390f648d1feb34c0cf89edffd23"
   }
  }
 },
 "nbformat": 4,
 "nbformat_minor": 2
}
